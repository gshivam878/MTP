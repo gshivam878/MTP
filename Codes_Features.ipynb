{
 "cells": [
  {
   "cell_type": "code",
   "execution_count": 542,
   "id": "6dd3ff7b",
   "metadata": {},
   "outputs": [],
   "source": [
    "inp_a = 0#0,6,9\n",
    "inp_b = 10#5,8,10\n",
    "dimn = inp_b-inp_a+1"
   ]
  },
  {
   "cell_type": "markdown",
   "id": "f528dc53",
   "metadata": {},
   "source": [
    "# Data Preprocessing Tools"
   ]
  },
  {
   "cell_type": "markdown",
   "id": "735cf564",
   "metadata": {},
   "source": [
    "## Importing the Libraries"
   ]
  },
  {
   "cell_type": "code",
   "execution_count": 543,
   "id": "9b4959f9",
   "metadata": {},
   "outputs": [],
   "source": [
    "import pandas as pd\n",
    "import numpy as np\n",
    "import matplotlib.pyplot as plt\n",
    "import seaborn as sns"
   ]
  },
  {
   "cell_type": "markdown",
   "id": "1d44c85e",
   "metadata": {},
   "source": [
    "## Importing the Dataset"
   ]
  },
  {
   "cell_type": "code",
   "execution_count": 544,
   "id": "27070314",
   "metadata": {},
   "outputs": [
    {
     "name": "stderr",
     "output_type": "stream",
     "text": [
      "C:\\Users\\HP\\AppData\\Local\\Temp\\ipykernel_24948\\2897327085.py:17: FutureWarning: The frame.append method is deprecated and will be removed from pandas in a future version. Use pandas.concat instead.\n",
      "  hp=hp.append(f1,ignore_index=True)\n",
      "C:\\Users\\HP\\AppData\\Local\\Temp\\ipykernel_24948\\2897327085.py:18: FutureWarning: The frame.append method is deprecated and will be removed from pandas in a future version. Use pandas.concat instead.\n",
      "  hp=hp.append(ip,ignore_index=True)\n",
      "C:\\Users\\HP\\AppData\\Local\\Temp\\ipykernel_24948\\2897327085.py:19: FutureWarning: The frame.append method is deprecated and will be removed from pandas in a future version. Use pandas.concat instead.\n",
      "  hp=hp.append(hp_e,ignore_index=True)\n",
      "C:\\Users\\HP\\AppData\\Local\\Temp\\ipykernel_24948\\2897327085.py:20: FutureWarning: The frame.append method is deprecated and will be removed from pandas in a future version. Use pandas.concat instead.\n",
      "  hp=hp.append(f1_e,ignore_index=True)\n",
      "C:\\Users\\HP\\AppData\\Local\\Temp\\ipykernel_24948\\2897327085.py:21: FutureWarning: The frame.append method is deprecated and will be removed from pandas in a future version. Use pandas.concat instead.\n",
      "  hp=hp.append(ip_e,ignore_index=True)\n",
      "C:\\Users\\HP\\AppData\\Local\\Temp\\ipykernel_24948\\2897327085.py:23: FutureWarning: The frame.append method is deprecated and will be removed from pandas in a future version. Use pandas.concat instead.\n",
      "  out=out.append(out_e,ignore_index=True)\n"
     ]
    }
   ],
   "source": [
    "np.random.seed(seed=7)\n",
    "# hp = pd.read_csv('hp_all_time_domain_s4_std.csv',header = None)\n",
    "# f1 = pd.read_csv('f1_all_time_domain_s4_std.csv',header = None)\n",
    "# ip = pd.read_csv('if_all_time_domain_s4_std.csv',header = None)\n",
    "# out = pd.read_csv(\"output_features_speed_wise.csv\",header=None)\n",
    "\n",
    "hp_e = pd.read_csv('hp_all_time_domain_s7_entropy.csv',header = None)\n",
    "f1_e = pd.read_csv('f1_all_time_domain_s7_entropy.csv',header = None)\n",
    "ip_e = pd.read_csv('if_all_time_domain_s7_entropy.csv',header = None)\n",
    "out_e = pd.read_csv(\"output_features_speed_wise.csv\",header=None)\n",
    "\n",
    "hp = pd.read_csv('hp_all_time_domain_s7_mean.csv',header = None)\n",
    "f1 = pd.read_csv('f1_all_time_domain_s7_mean.csv',header = None)\n",
    "ip = pd.read_csv('if_all_time_domain_s7_mean.csv',header = None)\n",
    "out = pd.read_csv(\"output_features_speed_wise.csv\",header=None)\n",
    "\n",
    "hp=hp.append(f1,ignore_index=True)\n",
    "hp=hp.append(ip,ignore_index=True)\n",
    "hp=hp.append(hp_e,ignore_index=True)\n",
    "hp=hp.append(f1_e,ignore_index=True)\n",
    "hp=hp.append(ip_e,ignore_index=True)\n",
    "\n",
    "out=out.append(out_e,ignore_index=True)"
   ]
  },
  {
   "cell_type": "code",
   "execution_count": 545,
   "id": "9b1cbb4c",
   "metadata": {},
   "outputs": [
    {
     "data": {
      "text/plain": [
       "(5400, 1)"
      ]
     },
     "execution_count": 545,
     "metadata": {},
     "output_type": "execute_result"
    }
   ],
   "source": [
    "out.shape"
   ]
  },
  {
   "cell_type": "code",
   "execution_count": 546,
   "id": "f0f30948",
   "metadata": {},
   "outputs": [
    {
     "data": {
      "text/plain": [
       "(5400, 11)"
      ]
     },
     "execution_count": 546,
     "metadata": {},
     "output_type": "execute_result"
    }
   ],
   "source": [
    "hp.shape      #append all the fault files as ecah has 6300 rows with 11 columns  [6300*3=18900]"
   ]
  },
  {
   "cell_type": "code",
   "execution_count": 547,
   "id": "cf77cd58",
   "metadata": {
    "scrolled": true
   },
   "outputs": [
    {
     "data": {
      "text/html": [
       "<div>\n",
       "<style scoped>\n",
       "    .dataframe tbody tr th:only-of-type {\n",
       "        vertical-align: middle;\n",
       "    }\n",
       "\n",
       "    .dataframe tbody tr th {\n",
       "        vertical-align: top;\n",
       "    }\n",
       "\n",
       "    .dataframe thead th {\n",
       "        text-align: right;\n",
       "    }\n",
       "</style>\n",
       "<table border=\"1\" class=\"dataframe\">\n",
       "  <thead>\n",
       "    <tr style=\"text-align: right;\">\n",
       "      <th></th>\n",
       "      <th>0</th>\n",
       "      <th>1</th>\n",
       "      <th>2</th>\n",
       "      <th>3</th>\n",
       "      <th>4</th>\n",
       "      <th>5</th>\n",
       "      <th>6</th>\n",
       "      <th>7</th>\n",
       "      <th>8</th>\n",
       "      <th>9</th>\n",
       "      <th>10</th>\n",
       "    </tr>\n",
       "  </thead>\n",
       "  <tbody>\n",
       "    <tr>\n",
       "      <th>0</th>\n",
       "      <td>0.000232</td>\n",
       "      <td>-0.000199</td>\n",
       "      <td>0.000414</td>\n",
       "      <td>0.000195</td>\n",
       "      <td>-0.000140</td>\n",
       "      <td>-0.000279</td>\n",
       "      <td>-0.000072</td>\n",
       "      <td>0.000564</td>\n",
       "      <td>-0.000611</td>\n",
       "      <td>0.404311</td>\n",
       "      <td>0.382805</td>\n",
       "    </tr>\n",
       "    <tr>\n",
       "      <th>1</th>\n",
       "      <td>0.000209</td>\n",
       "      <td>-0.000217</td>\n",
       "      <td>0.000359</td>\n",
       "      <td>0.000156</td>\n",
       "      <td>-0.000136</td>\n",
       "      <td>-0.000250</td>\n",
       "      <td>-0.000060</td>\n",
       "      <td>0.000604</td>\n",
       "      <td>-0.000607</td>\n",
       "      <td>0.404246</td>\n",
       "      <td>0.382222</td>\n",
       "    </tr>\n",
       "    <tr>\n",
       "      <th>2</th>\n",
       "      <td>0.000195</td>\n",
       "      <td>-0.000213</td>\n",
       "      <td>0.000402</td>\n",
       "      <td>0.000136</td>\n",
       "      <td>-0.000118</td>\n",
       "      <td>-0.000235</td>\n",
       "      <td>-0.000043</td>\n",
       "      <td>0.000629</td>\n",
       "      <td>-0.000601</td>\n",
       "      <td>0.404396</td>\n",
       "      <td>0.382268</td>\n",
       "    </tr>\n",
       "    <tr>\n",
       "      <th>3</th>\n",
       "      <td>0.000229</td>\n",
       "      <td>-0.000179</td>\n",
       "      <td>0.000387</td>\n",
       "      <td>0.000185</td>\n",
       "      <td>-0.000105</td>\n",
       "      <td>-0.000236</td>\n",
       "      <td>-0.000081</td>\n",
       "      <td>0.000610</td>\n",
       "      <td>-0.000574</td>\n",
       "      <td>0.403966</td>\n",
       "      <td>0.382132</td>\n",
       "    </tr>\n",
       "    <tr>\n",
       "      <th>4</th>\n",
       "      <td>0.000213</td>\n",
       "      <td>-0.000219</td>\n",
       "      <td>0.000429</td>\n",
       "      <td>0.000202</td>\n",
       "      <td>-0.000104</td>\n",
       "      <td>-0.000238</td>\n",
       "      <td>-0.000075</td>\n",
       "      <td>0.000593</td>\n",
       "      <td>-0.000550</td>\n",
       "      <td>0.404186</td>\n",
       "      <td>0.382542</td>\n",
       "    </tr>\n",
       "  </tbody>\n",
       "</table>\n",
       "</div>"
      ],
      "text/plain": [
       "         0         1         2         3         4         5         6   \\\n",
       "0  0.000232 -0.000199  0.000414  0.000195 -0.000140 -0.000279 -0.000072   \n",
       "1  0.000209 -0.000217  0.000359  0.000156 -0.000136 -0.000250 -0.000060   \n",
       "2  0.000195 -0.000213  0.000402  0.000136 -0.000118 -0.000235 -0.000043   \n",
       "3  0.000229 -0.000179  0.000387  0.000185 -0.000105 -0.000236 -0.000081   \n",
       "4  0.000213 -0.000219  0.000429  0.000202 -0.000104 -0.000238 -0.000075   \n",
       "\n",
       "         7         8         9         10  \n",
       "0  0.000564 -0.000611  0.404311  0.382805  \n",
       "1  0.000604 -0.000607  0.404246  0.382222  \n",
       "2  0.000629 -0.000601  0.404396  0.382268  \n",
       "3  0.000610 -0.000574  0.403966  0.382132  \n",
       "4  0.000593 -0.000550  0.404186  0.382542  "
      ]
     },
     "execution_count": 547,
     "metadata": {},
     "output_type": "execute_result"
    }
   ],
   "source": [
    "hp.head()"
   ]
  },
  {
   "cell_type": "markdown",
   "id": "241ef58c",
   "metadata": {},
   "source": [
    "### Adding output columns "
   ]
  },
  {
   "cell_type": "code",
   "execution_count": 548,
   "id": "b959c414",
   "metadata": {},
   "outputs": [
    {
     "data": {
      "text/html": [
       "<div>\n",
       "<style scoped>\n",
       "    .dataframe tbody tr th:only-of-type {\n",
       "        vertical-align: middle;\n",
       "    }\n",
       "\n",
       "    .dataframe tbody tr th {\n",
       "        vertical-align: top;\n",
       "    }\n",
       "\n",
       "    .dataframe thead th {\n",
       "        text-align: right;\n",
       "    }\n",
       "</style>\n",
       "<table border=\"1\" class=\"dataframe\">\n",
       "  <thead>\n",
       "    <tr style=\"text-align: right;\">\n",
       "      <th></th>\n",
       "      <th>0</th>\n",
       "      <th>1</th>\n",
       "      <th>2</th>\n",
       "      <th>3</th>\n",
       "      <th>4</th>\n",
       "      <th>5</th>\n",
       "      <th>6</th>\n",
       "      <th>7</th>\n",
       "      <th>8</th>\n",
       "      <th>9</th>\n",
       "      <th>10</th>\n",
       "      <th>11</th>\n",
       "    </tr>\n",
       "  </thead>\n",
       "  <tbody>\n",
       "    <tr>\n",
       "      <th>0</th>\n",
       "      <td>0.000232</td>\n",
       "      <td>-0.000199</td>\n",
       "      <td>0.000414</td>\n",
       "      <td>0.000195</td>\n",
       "      <td>-0.000140</td>\n",
       "      <td>-0.000279</td>\n",
       "      <td>-0.000072</td>\n",
       "      <td>0.000564</td>\n",
       "      <td>-0.000611</td>\n",
       "      <td>0.404311</td>\n",
       "      <td>0.382805</td>\n",
       "      <td>1</td>\n",
       "    </tr>\n",
       "    <tr>\n",
       "      <th>1</th>\n",
       "      <td>0.000209</td>\n",
       "      <td>-0.000217</td>\n",
       "      <td>0.000359</td>\n",
       "      <td>0.000156</td>\n",
       "      <td>-0.000136</td>\n",
       "      <td>-0.000250</td>\n",
       "      <td>-0.000060</td>\n",
       "      <td>0.000604</td>\n",
       "      <td>-0.000607</td>\n",
       "      <td>0.404246</td>\n",
       "      <td>0.382222</td>\n",
       "      <td>1</td>\n",
       "    </tr>\n",
       "    <tr>\n",
       "      <th>2</th>\n",
       "      <td>0.000195</td>\n",
       "      <td>-0.000213</td>\n",
       "      <td>0.000402</td>\n",
       "      <td>0.000136</td>\n",
       "      <td>-0.000118</td>\n",
       "      <td>-0.000235</td>\n",
       "      <td>-0.000043</td>\n",
       "      <td>0.000629</td>\n",
       "      <td>-0.000601</td>\n",
       "      <td>0.404396</td>\n",
       "      <td>0.382268</td>\n",
       "      <td>1</td>\n",
       "    </tr>\n",
       "    <tr>\n",
       "      <th>3</th>\n",
       "      <td>0.000229</td>\n",
       "      <td>-0.000179</td>\n",
       "      <td>0.000387</td>\n",
       "      <td>0.000185</td>\n",
       "      <td>-0.000105</td>\n",
       "      <td>-0.000236</td>\n",
       "      <td>-0.000081</td>\n",
       "      <td>0.000610</td>\n",
       "      <td>-0.000574</td>\n",
       "      <td>0.403966</td>\n",
       "      <td>0.382132</td>\n",
       "      <td>1</td>\n",
       "    </tr>\n",
       "    <tr>\n",
       "      <th>4</th>\n",
       "      <td>0.000213</td>\n",
       "      <td>-0.000219</td>\n",
       "      <td>0.000429</td>\n",
       "      <td>0.000202</td>\n",
       "      <td>-0.000104</td>\n",
       "      <td>-0.000238</td>\n",
       "      <td>-0.000075</td>\n",
       "      <td>0.000593</td>\n",
       "      <td>-0.000550</td>\n",
       "      <td>0.404186</td>\n",
       "      <td>0.382542</td>\n",
       "      <td>1</td>\n",
       "    </tr>\n",
       "  </tbody>\n",
       "</table>\n",
       "</div>"
      ],
      "text/plain": [
       "         0         1         2         3         4         5         6   \\\n",
       "0  0.000232 -0.000199  0.000414  0.000195 -0.000140 -0.000279 -0.000072   \n",
       "1  0.000209 -0.000217  0.000359  0.000156 -0.000136 -0.000250 -0.000060   \n",
       "2  0.000195 -0.000213  0.000402  0.000136 -0.000118 -0.000235 -0.000043   \n",
       "3  0.000229 -0.000179  0.000387  0.000185 -0.000105 -0.000236 -0.000081   \n",
       "4  0.000213 -0.000219  0.000429  0.000202 -0.000104 -0.000238 -0.000075   \n",
       "\n",
       "         7         8         9         10  11  \n",
       "0  0.000564 -0.000611  0.404311  0.382805   1  \n",
       "1  0.000604 -0.000607  0.404246  0.382222   1  \n",
       "2  0.000629 -0.000601  0.404396  0.382268   1  \n",
       "3  0.000610 -0.000574  0.403966  0.382132   1  \n",
       "4  0.000593 -0.000550  0.404186  0.382542   1  "
      ]
     },
     "execution_count": 548,
     "metadata": {},
     "output_type": "execute_result"
    }
   ],
   "source": [
    "df = pd.concat([hp,out],axis = 1, ignore_index=True)\n",
    "df.head()"
   ]
  },
  {
   "cell_type": "code",
   "execution_count": 549,
   "id": "006b1e8c",
   "metadata": {},
   "outputs": [
    {
     "data": {
      "text/plain": [
       "(5400, 12)"
      ]
     },
     "execution_count": 549,
     "metadata": {},
     "output_type": "execute_result"
    }
   ],
   "source": [
    "df.shape        #earlier the column were 11, now it becomes 12"
   ]
  },
  {
   "cell_type": "markdown",
   "id": "10a3fd3e",
   "metadata": {},
   "source": [
    "### Defining x,y"
   ]
  },
  {
   "cell_type": "code",
   "execution_count": 550,
   "id": "61e0a96c",
   "metadata": {},
   "outputs": [],
   "source": [
    "X = df.iloc[:, :-1].values  \n",
    "y = df.iloc[:, -1].values"
   ]
  },
  {
   "cell_type": "code",
   "execution_count": 551,
   "id": "6a8b55a6",
   "metadata": {},
   "outputs": [
    {
     "name": "stdout",
     "output_type": "stream",
     "text": [
      "[[ 2.32459487e-04 -1.99011200e-04  4.13745537e-04 ... -6.10602130e-04\n",
      "   4.04310685e-01  3.82804505e-01]\n",
      " [ 2.09424116e-04 -2.17139195e-04  3.59221168e-04 ... -6.07068087e-04\n",
      "   4.04246431e-01  3.82222004e-01]\n",
      " [ 1.95489364e-04 -2.12744530e-04  4.01989807e-04 ... -6.01446577e-04\n",
      "   4.04395703e-01  3.82267580e-01]\n",
      " ...\n",
      " [ 1.89533691e+00  1.86756194e+00  1.34356398e+00 ...  2.28166961e+00\n",
      "   2.16990287e+00  3.09931568e+00]\n",
      " [ 1.83882482e+00  1.81149400e+00  1.37567381e+00 ...  2.27944806e+00\n",
      "   2.07493368e+00  2.88567187e+00]\n",
      " [ 1.86485419e+00  1.84595315e+00  1.36417266e+00 ...  2.28485691e+00\n",
      "   2.28250806e+00  3.17096880e+00]]\n"
     ]
    }
   ],
   "source": [
    "print(X)"
   ]
  },
  {
   "cell_type": "code",
   "execution_count": 552,
   "id": "9129dcfd",
   "metadata": {},
   "outputs": [
    {
     "name": "stdout",
     "output_type": "stream",
     "text": [
      "[ 1  1  1 ... 18 18 18]\n"
     ]
    }
   ],
   "source": [
    "print(y)"
   ]
  },
  {
   "cell_type": "markdown",
   "id": "9e965aca",
   "metadata": {},
   "source": [
    "## Splitting the dataset into the Training set and Test set"
   ]
  },
  {
   "cell_type": "code",
   "execution_count": 553,
   "id": "afe826ae",
   "metadata": {},
   "outputs": [],
   "source": [
    "from sklearn.model_selection import train_test_split\n",
    "X_train, X_test, y_train, y_test = train_test_split(X, y, test_size = 0.2, random_state = 1)"
   ]
  },
  {
   "cell_type": "code",
   "execution_count": 554,
   "id": "d1ca434a",
   "metadata": {
    "scrolled": true
   },
   "outputs": [
    {
     "name": "stdout",
     "output_type": "stream",
     "text": [
      "[[ 1.80929224e+00  1.68200799e+00  1.64114657e+00 ...  2.56471114e+00\n",
      "   3.02309976e+00  3.28407919e+00]\n",
      " [ 1.88134295e+00  1.73916842e+00  1.34372892e+00 ...  2.49680712e+00\n",
      "   2.93586177e+00  3.63132926e+00]\n",
      " [ 1.95629749e-04 -2.13354900e-04  4.07025361e-04 ... -5.51853999e-04\n",
      "   4.03857894e-01  3.82622095e-01]\n",
      " ...\n",
      " [ 1.77907528e+00  1.71846136e+00  1.66116430e+00 ...  2.56675652e+00\n",
      "   2.99408660e+00  3.35881657e+00]\n",
      " [ 2.01422163e-04 -1.97387616e-04  3.05020295e-04 ... -3.65123447e-04\n",
      "   3.99697879e-01  3.78446693e-01]\n",
      " [ 1.89820504e+00  1.96061525e+00  1.42427445e+00 ...  2.32838404e+00\n",
      "   2.98492548e+00  3.49192603e+00]]\n"
     ]
    }
   ],
   "source": [
    "print(X_train)"
   ]
  },
  {
   "cell_type": "code",
   "execution_count": 555,
   "id": "133079b6",
   "metadata": {},
   "outputs": [
    {
     "name": "stdout",
     "output_type": "stream",
     "text": [
      "[ 9 15  1 ...  9  2 17]\n"
     ]
    }
   ],
   "source": [
    "print(y_train)"
   ]
  },
  {
   "cell_type": "code",
   "execution_count": 556,
   "id": "cec9c40f",
   "metadata": {},
   "outputs": [
    {
     "name": "stdout",
     "output_type": "stream",
     "text": [
      "[[ 1.83581448e+00  1.78733872e+00  1.74379620e+00 ...  2.57091183e+00\n",
      "   3.22403958e+00  3.40891203e+00]\n",
      " [ 2.20935698e-04 -1.72795801e-04  3.94457839e-04 ... -7.44651631e-04\n",
      "   3.89627351e-01  3.80297891e-01]\n",
      " [ 1.89937171e+00  1.90855992e+00  1.38514767e+00 ...  2.51599269e+00\n",
      "   3.41030283e+00  4.04914032e+00]\n",
      " ...\n",
      " [ 2.18396558e-04 -1.29129917e-04  3.40629292e-04 ... -4.03375347e-04\n",
      "   2.26153661e-01  2.28468972e-01]\n",
      " [ 2.12524796e-04 -2.02746666e-04  3.75933103e-04 ... -5.92681661e-04\n",
      "   4.04456142e-01  3.82255702e-01]\n",
      " [ 1.75080182e+00  1.69900062e+00  1.60262263e+00 ...  2.30654502e+00\n",
      "   2.70770291e+00  2.80463995e+00]]\n"
     ]
    }
   ],
   "source": [
    "print(X_test)"
   ]
  },
  {
   "cell_type": "code",
   "execution_count": 557,
   "id": "f24fa541",
   "metadata": {},
   "outputs": [
    {
     "name": "stdout",
     "output_type": "stream",
     "text": [
      "[ 8  7 16 ...  6  1 12]\n"
     ]
    }
   ],
   "source": [
    "print(y_test)"
   ]
  },
  {
   "cell_type": "markdown",
   "id": "472ee112",
   "metadata": {},
   "source": [
    "## Feature Scaling"
   ]
  },
  {
   "cell_type": "code",
   "execution_count": 558,
   "id": "6392492a",
   "metadata": {},
   "outputs": [],
   "source": [
    "from sklearn.preprocessing import StandardScaler\n",
    "sc = StandardScaler()\n",
    "X_train = sc.fit_transform(X_train)\n",
    "X_test = sc.transform(X_test)"
   ]
  },
  {
   "cell_type": "code",
   "execution_count": 559,
   "id": "2bcfb4b8",
   "metadata": {},
   "outputs": [
    {
     "name": "stdout",
     "output_type": "stream",
     "text": [
      "[[ 1.09460648  1.04673418  1.1747213  ...  1.0745015   0.98128639\n",
      "   0.87851976]\n",
      " [ 1.17745175  1.1156814   0.78208033 ...  1.0196211   0.91778139\n",
      "   1.09684605]\n",
      " [-0.98552694 -0.98237044 -0.99132892 ... -0.9987582  -0.92539388\n",
      "  -0.94571131]\n",
      " ...\n",
      " [ 1.05986245  1.09070443  1.20114806 ...  1.07615459  0.96016623\n",
      "   0.92550934]\n",
      " [-0.98552028 -0.98235118 -0.99146358 ... -0.99860729 -0.92842216\n",
      "  -0.94833651]\n",
      " [ 1.1968401   1.38279177  0.88841389 ...  0.88350064  0.95349738\n",
      "   1.00919916]]\n"
     ]
    }
   ],
   "source": [
    "print(X_train)"
   ]
  },
  {
   "cell_type": "code",
   "execution_count": 560,
   "id": "4e324ae7",
   "metadata": {},
   "outputs": [
    {
     "name": "stdout",
     "output_type": "stream",
     "text": [
      "[[ 1.12510226  1.17378467  1.31023596 ...  1.07951293  1.12756077\n",
      "   0.95700582]\n",
      " [-0.98549784 -0.98232152 -0.99134551 ... -0.99891402 -0.93575302\n",
      "  -0.9471726 ]\n",
      " [ 1.19818156  1.32000235  0.83676    ...  1.03512698  1.26315133\n",
      "   1.3595361 ]\n",
      " ...\n",
      " [-0.98550076 -0.98226885 -0.99141657 ... -0.9986382  -1.05475389\n",
      "  -1.04263189]\n",
      " [-0.98550752 -0.98235765 -0.99136996 ... -0.9987912  -0.92495838\n",
      "  -0.94594167]\n",
      " [ 1.02735309  1.06723078  1.12386327 ...  0.86585022  0.75169287\n",
      "   0.57708227]]\n"
     ]
    }
   ],
   "source": [
    "print(X_test)"
   ]
  },
  {
   "cell_type": "markdown",
   "id": "aa3518b5",
   "metadata": {},
   "source": [
    "## Training the Random Forest Classification model on the Training set"
   ]
  },
  {
   "cell_type": "code",
   "execution_count": 561,
   "id": "67cc1981",
   "metadata": {},
   "outputs": [
    {
     "data": {
      "text/plain": [
       "RandomForestClassifier(criterion='entropy', n_estimators=10, random_state=0)"
      ]
     },
     "execution_count": 561,
     "metadata": {},
     "output_type": "execute_result"
    }
   ],
   "source": [
    "from sklearn.ensemble import RandomForestClassifier\n",
    "classifier = RandomForestClassifier(n_estimators = 10, criterion = 'entropy', random_state = 0)\n",
    "classifier.fit(X_train, y_train)"
   ]
  },
  {
   "cell_type": "code",
   "execution_count": 562,
   "id": "970c762a",
   "metadata": {},
   "outputs": [],
   "source": [
    "y_pred = classifier.predict(X_test)"
   ]
  },
  {
   "cell_type": "code",
   "execution_count": 563,
   "id": "17529482",
   "metadata": {},
   "outputs": [
    {
     "data": {
      "text/plain": [
       "99.72222222222223"
      ]
     },
     "execution_count": 563,
     "metadata": {},
     "output_type": "execute_result"
    }
   ],
   "source": [
    " from sklearn.metrics import accuracy_score\n",
    "(accuracy_score (y_test,y_pred))*100\n"
   ]
  },
  {
   "cell_type": "code",
   "execution_count": null,
   "id": "95d7bf06",
   "metadata": {},
   "outputs": [],
   "source": []
  }
 ],
 "metadata": {
  "kernelspec": {
   "display_name": "Python 3 (ipykernel)",
   "language": "python",
   "name": "python3"
  },
  "language_info": {
   "codemirror_mode": {
    "name": "ipython",
    "version": 3
   },
   "file_extension": ".py",
   "mimetype": "text/x-python",
   "name": "python",
   "nbconvert_exporter": "python",
   "pygments_lexer": "ipython3",
   "version": "3.9.12"
  }
 },
 "nbformat": 4,
 "nbformat_minor": 5
}
