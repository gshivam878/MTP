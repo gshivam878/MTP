{
 "cells": [
  {
   "cell_type": "markdown",
   "id": "ebcbc1a2",
   "metadata": {},
   "source": [
    "# Data Preprocessing Tools"
   ]
  },
  {
   "cell_type": "markdown",
   "id": "b3a6f592",
   "metadata": {},
   "source": [
    "## Importing the Libraries"
   ]
  },
  {
   "cell_type": "code",
   "execution_count": 19,
   "id": "6947de32",
   "metadata": {},
   "outputs": [],
   "source": [
    "import pandas as pd\n",
    "import numpy as np\n",
    "import matplotlib.pyplot as plt\n",
    "import seaborn as sns\n",
    "import tensorflow as tf"
   ]
  },
  {
   "cell_type": "markdown",
   "id": "2c1c9aa0",
   "metadata": {},
   "source": [
    "## Importing the Dataset"
   ]
  },
  {
   "cell_type": "code",
   "execution_count": 20,
   "id": "a0ab1008",
   "metadata": {},
   "outputs": [],
   "source": [
    "# hp_b0 = pd.read_csv('hp_time_domain_s_1_7_b0_entropy.csv',header = None)\n",
    "# f1_b0 = pd.read_csv('f1_time_domain_s_1_7_b0_entropy.csv',header = None)\n",
    "# ip_b0 = pd.read_csv('if_time_domain_s_1_7_b0_entropy.csv',header = None)\n",
    "\n",
    "# b0 = hp_b0.append([f1_b0,ip_b0],ignore_index=True)\n",
    "\n",
    "\n",
    "# hp_b1 = pd.read_csv('hp_time_domain_s_1_7_b1_entropy.csv',header = None)\n",
    "# f1_b1 = pd.read_csv('f1_time_domain_s_1_7_b1_entropy.csv',header = None)\n",
    "# ip_b1 = pd.read_csv('if_time_domain_s_1_7_b1_entropy.csv',header = None)\n",
    "\n",
    "# b1 = hp_b1.append([f1_b1,ip_b1],ignore_index=True)\n",
    "\n",
    "\n",
    "# hp_b2 = pd.read_csv('hp_time_domain_s_1_7_b2_entropy.csv',header = None)\n",
    "# f1_b2 = pd.read_csv('f1_time_domain_s_1_7_b2_entropy.csv',header = None)\n",
    "# ip_b2 = pd.read_csv('if_time_domain_s_1_7_b2_entropy.csv',header = None)\n",
    "# b2 = hp_b2.append([f1_b2,ip_b2],ignore_index=True)\n",
    "\n",
    "\n",
    "# hp_b3 = pd.read_csv('hp_time_domain_s_1_7_b3_entropy.csv',header = None)\n",
    "# f1_b3 = pd.read_csv('f1_time_domain_s_1_7_b3_entropy.csv',header = None)\n",
    "# ip_b3 = pd.read_csv('if_time_domain_s_1_7_b3_entropy.csv',header = None)\n",
    "# b3 = hp_b3.append([f1_b3,ip_b3],ignore_index=True)\n",
    "\n",
    "# hp_b4 = pd.read_csv('hp_time_domain_s_1_7_b4_entropy.csv',header = None)\n",
    "# f1_b4 = pd.read_csv('f1_time_domain_s_1_7_b4_entropy.csv',header = None)\n",
    "# ip_b4 = pd.read_csv('if_time_domain_s_1_7_b4_entropy.csv',header = None)\n",
    "# b4 = hp_b4.append([f1_b4,ip_b4],ignore_index=True)\n",
    "\n",
    "\n",
    "# hp_b5 = pd.read_csv('hp_time_domain_s_1_7_b5_entropy.csv',header = None)\n",
    "# f1_b5 = pd.read_csv('f1_time_domain_s_1_7_b5_entropy.csv',header = None)\n",
    "# ip_b5 = pd.read_csv('if_time_domain_s_1_7_b5_entropy.csv',header = None)\n",
    "# b5 = hp_b5.append([f1_b5,ip_b5],ignore_index=True)\n",
    "\n",
    "\n",
    "\n",
    "# out_all_entropy = pd.read_csv(\"output_model.csv\",header=None)\n",
    "\n",
    "# bkg = b0.append([b1,b2,b3,b4,b5],ignore_index=True)"
   ]
  },
  {
   "cell_type": "code",
   "execution_count": 21,
   "id": "64df6ffe",
   "metadata": {},
   "outputs": [
    {
     "name": "stderr",
     "output_type": "stream",
     "text": [
      "C:\\Users\\HP\\AppData\\Local\\Temp\\ipykernel_14088\\3585053845.py:5: FutureWarning: The frame.append method is deprecated and will be removed from pandas in a future version. Use pandas.concat instead.\n",
      "  b0_m = hp_b0.append([f1_b0,ip_b0],ignore_index=True)\n",
      "C:\\Users\\HP\\AppData\\Local\\Temp\\ipykernel_14088\\3585053845.py:12: FutureWarning: The frame.append method is deprecated and will be removed from pandas in a future version. Use pandas.concat instead.\n",
      "  b1_m = hp_b1.append([f1_b1,ip_b1],ignore_index=True)\n",
      "C:\\Users\\HP\\AppData\\Local\\Temp\\ipykernel_14088\\3585053845.py:18: FutureWarning: The frame.append method is deprecated and will be removed from pandas in a future version. Use pandas.concat instead.\n",
      "  b2_m = hp_b2.append([f1_b2,ip_b2],ignore_index=True)\n",
      "C:\\Users\\HP\\AppData\\Local\\Temp\\ipykernel_14088\\3585053845.py:24: FutureWarning: The frame.append method is deprecated and will be removed from pandas in a future version. Use pandas.concat instead.\n",
      "  b3_m = hp_b3.append([f1_b3,ip_b3],ignore_index=True)\n",
      "C:\\Users\\HP\\AppData\\Local\\Temp\\ipykernel_14088\\3585053845.py:29: FutureWarning: The frame.append method is deprecated and will be removed from pandas in a future version. Use pandas.concat instead.\n",
      "  b4_m = hp_b4.append([f1_b4,ip_b4],ignore_index=True)\n",
      "C:\\Users\\HP\\AppData\\Local\\Temp\\ipykernel_14088\\3585053845.py:35: FutureWarning: The frame.append method is deprecated and will be removed from pandas in a future version. Use pandas.concat instead.\n",
      "  b5_m = hp_b5.append([f1_b5,ip_b5],ignore_index=True)\n"
     ]
    }
   ],
   "source": [
    "hp_b0 = pd.read_csv('hp_time_domain_s_1_7_b0_mean.csv',header = None)\n",
    "f1_b0 = pd.read_csv('f1_time_domain_s_1_7_b0_mean.csv',header = None)\n",
    "ip_b0 = pd.read_csv('if_time_domain_s_1_7_b0_mean.csv',header = None)\n",
    "\n",
    "b0_m = hp_b0.append([f1_b0,ip_b0],ignore_index=True)\n",
    "\n",
    "\n",
    "hp_b1 = pd.read_csv('hp_time_domain_s_1_7_b1_mean.csv',header = None)\n",
    "f1_b1 = pd.read_csv('f1_time_domain_s_1_7_b1_mean.csv',header = None)\n",
    "ip_b1 = pd.read_csv('if_time_domain_s_1_7_b1_mean.csv',header = None)\n",
    "\n",
    "b1_m = hp_b1.append([f1_b1,ip_b1],ignore_index=True)\n",
    "\n",
    "\n",
    "hp_b2 = pd.read_csv('hp_time_domain_s_1_7_b2_mean.csv',header = None)\n",
    "f1_b2 = pd.read_csv('f1_time_domain_s_1_7_b2_mean.csv',header = None)\n",
    "ip_b2 = pd.read_csv('if_time_domain_s_1_7_b2_mean.csv',header = None)\n",
    "b2_m = hp_b2.append([f1_b2,ip_b2],ignore_index=True)\n",
    "\n",
    "\n",
    "hp_b3 = pd.read_csv('hp_time_domain_s_1_7_b3_mean.csv',header = None)\n",
    "f1_b3 = pd.read_csv('f1_time_domain_s_1_7_b3_mean.csv',header = None)\n",
    "ip_b3 = pd.read_csv('if_time_domain_s_1_7_b3_mean.csv',header = None)\n",
    "b3_m = hp_b3.append([f1_b3,ip_b3],ignore_index=True)\n",
    "\n",
    "hp_b4 = pd.read_csv('hp_time_domain_s_1_7_b4_mean.csv',header = None)\n",
    "f1_b4 = pd.read_csv('f1_time_domain_s_1_7_b4_mean.csv',header = None)\n",
    "ip_b4 = pd.read_csv('if_time_domain_s_1_7_b4_mean.csv',header = None)\n",
    "b4_m = hp_b4.append([f1_b4,ip_b4],ignore_index=True)\n",
    "\n",
    "\n",
    "hp_b5 = pd.read_csv('hp_time_domain_s_1_7_b5_mean.csv',header = None)\n",
    "f1_b5 = pd.read_csv('f1_time_domain_s_1_7_b5_mean.csv',header = None)\n",
    "ip_b5 = pd.read_csv('if_time_domain_s_1_7_b5_mean.csv',header = None)\n",
    "b5_m = hp_b5.append([f1_b5,ip_b5],ignore_index=True)\n",
    "\n",
    "\n",
    "\n",
    "out_all_mean = pd.read_csv(\"output_model.csv\",header=None)\n",
    "\n",
    "#bkg = b0.append([b1,b2,b3,b4,b5],ignore_index=True)"
   ]
  },
  {
   "cell_type": "code",
   "execution_count": 22,
   "id": "1a5f841b",
   "metadata": {},
   "outputs": [
    {
     "name": "stderr",
     "output_type": "stream",
     "text": [
      "C:\\Users\\HP\\AppData\\Local\\Temp\\ipykernel_14088\\3802852842.py:5: FutureWarning: The frame.append method is deprecated and will be removed from pandas in a future version. Use pandas.concat instead.\n",
      "  b0_std = hp_b0.append([f1_b0,ip_b0],ignore_index=True)\n",
      "C:\\Users\\HP\\AppData\\Local\\Temp\\ipykernel_14088\\3802852842.py:11: FutureWarning: The frame.append method is deprecated and will be removed from pandas in a future version. Use pandas.concat instead.\n",
      "  b1_std = hp_b1.append([f1_b1,ip_b1],ignore_index=True)\n",
      "C:\\Users\\HP\\AppData\\Local\\Temp\\ipykernel_14088\\3802852842.py:17: FutureWarning: The frame.append method is deprecated and will be removed from pandas in a future version. Use pandas.concat instead.\n",
      "  b2_std = hp_b2.append([f1_b2,ip_b2],ignore_index=True)\n",
      "C:\\Users\\HP\\AppData\\Local\\Temp\\ipykernel_14088\\3802852842.py:23: FutureWarning: The frame.append method is deprecated and will be removed from pandas in a future version. Use pandas.concat instead.\n",
      "  b3_std = hp_b3.append([f1_b3,ip_b3],ignore_index=True)\n",
      "C:\\Users\\HP\\AppData\\Local\\Temp\\ipykernel_14088\\3802852842.py:28: FutureWarning: The frame.append method is deprecated and will be removed from pandas in a future version. Use pandas.concat instead.\n",
      "  b4_std = hp_b4.append([f1_b4,ip_b4],ignore_index=True)\n",
      "C:\\Users\\HP\\AppData\\Local\\Temp\\ipykernel_14088\\3802852842.py:34: FutureWarning: The frame.append method is deprecated and will be removed from pandas in a future version. Use pandas.concat instead.\n",
      "  b5_std = hp_b5.append([f1_b5,ip_b5],ignore_index=True)\n"
     ]
    }
   ],
   "source": [
    "hp_b0 = pd.read_csv('hp_time_domain_s_1_7_b0_std.csv',header = None)\n",
    "f1_b0 = pd.read_csv('f1_time_domain_s_1_7_b0_std.csv',header = None)\n",
    "ip_b0 = pd.read_csv('if_time_domain_s_1_7_b0_std.csv',header = None)\n",
    "\n",
    "b0_std = hp_b0.append([f1_b0,ip_b0],ignore_index=True)\n",
    "\n",
    "\n",
    "hp_b1 = pd.read_csv('hp_time_domain_s_1_7_b1_std.csv',header = None)\n",
    "f1_b1 = pd.read_csv('f1_time_domain_s_1_7_b1_std.csv',header = None)\n",
    "ip_b1 = pd.read_csv('if_time_domain_s_1_7_b1_std.csv',header = None)\n",
    "b1_std = hp_b1.append([f1_b1,ip_b1],ignore_index=True)\n",
    "\n",
    "\n",
    "hp_b2 = pd.read_csv('hp_time_domain_s_1_7_b2_std.csv',header = None)\n",
    "f1_b2 = pd.read_csv('f1_time_domain_s_1_7_b2_std.csv',header = None)\n",
    "ip_b2 = pd.read_csv('if_time_domain_s_1_7_b2_std.csv',header = None)\n",
    "b2_std = hp_b2.append([f1_b2,ip_b2],ignore_index=True)\n",
    "\n",
    "\n",
    "hp_b3 = pd.read_csv('hp_time_domain_s_1_7_b3_std.csv',header = None)\n",
    "f1_b3 = pd.read_csv('f1_time_domain_s_1_7_b3_std.csv',header = None)\n",
    "ip_b3 = pd.read_csv('if_time_domain_s_1_7_b3_std.csv',header = None)\n",
    "b3_std = hp_b3.append([f1_b3,ip_b3],ignore_index=True)\n",
    "\n",
    "hp_b4 = pd.read_csv('hp_time_domain_s_1_7_b4_std.csv',header = None)\n",
    "f1_b4 = pd.read_csv('f1_time_domain_s_1_7_b4_std.csv',header = None)\n",
    "ip_b4 = pd.read_csv('if_time_domain_s_1_7_b4_std.csv',header = None)\n",
    "b4_std = hp_b4.append([f1_b4,ip_b4],ignore_index=True)\n",
    "\n",
    "\n",
    "hp_b5 = pd.read_csv('hp_time_domain_s_1_7_b5_std.csv',header = None)\n",
    "f1_b5 = pd.read_csv('f1_time_domain_s_1_7_b5_std.csv',header = None)\n",
    "ip_b5 = pd.read_csv('if_time_domain_s_1_7_b5_std.csv',header = None)\n",
    "b5_std = hp_b5.append([f1_b5,ip_b5],ignore_index=True)\n",
    "\n",
    "\n",
    "\n",
    "out_all_std = pd.read_csv(\"output_model.csv\",header=None)\n"
   ]
  },
  {
   "cell_type": "code",
   "execution_count": 23,
   "id": "bc56180b",
   "metadata": {},
   "outputs": [
    {
     "name": "stderr",
     "output_type": "stream",
     "text": [
      "C:\\Users\\HP\\AppData\\Local\\Temp\\ipykernel_14088\\1350320175.py:1: FutureWarning: The frame.append method is deprecated and will be removed from pandas in a future version. Use pandas.concat instead.\n",
      "  b0_all = b0_m.append([b0_std],ignore_index=True)\n",
      "C:\\Users\\HP\\AppData\\Local\\Temp\\ipykernel_14088\\1350320175.py:2: FutureWarning: The frame.append method is deprecated and will be removed from pandas in a future version. Use pandas.concat instead.\n",
      "  b1_all = b1_m.append([b1_std],ignore_index=True)\n",
      "C:\\Users\\HP\\AppData\\Local\\Temp\\ipykernel_14088\\1350320175.py:3: FutureWarning: The frame.append method is deprecated and will be removed from pandas in a future version. Use pandas.concat instead.\n",
      "  b2_all = b2_m.append([b2_std],ignore_index=True)\n",
      "C:\\Users\\HP\\AppData\\Local\\Temp\\ipykernel_14088\\1350320175.py:4: FutureWarning: The frame.append method is deprecated and will be removed from pandas in a future version. Use pandas.concat instead.\n",
      "  b3_all = b3_m.append([b3_std],ignore_index=True)\n",
      "C:\\Users\\HP\\AppData\\Local\\Temp\\ipykernel_14088\\1350320175.py:5: FutureWarning: The frame.append method is deprecated and will be removed from pandas in a future version. Use pandas.concat instead.\n",
      "  b4_all = b4_m.append([b4_std],ignore_index=True)\n",
      "C:\\Users\\HP\\AppData\\Local\\Temp\\ipykernel_14088\\1350320175.py:6: FutureWarning: The frame.append method is deprecated and will be removed from pandas in a future version. Use pandas.concat instead.\n",
      "  b5_all = b5_m.append([b5_std],ignore_index=True)\n",
      "C:\\Users\\HP\\AppData\\Local\\Temp\\ipykernel_14088\\1350320175.py:8: FutureWarning: The frame.append method is deprecated and will be removed from pandas in a future version. Use pandas.concat instead.\n",
      "  out_all = out_all_mean.append([out_all_std],ignore_index=True)\n"
     ]
    }
   ],
   "source": [
    "b0_all = b0_m.append([b0_std],ignore_index=True)\n",
    "b1_all = b1_m.append([b1_std],ignore_index=True)\n",
    "b2_all = b2_m.append([b2_std],ignore_index=True)\n",
    "b3_all = b3_m.append([b3_std],ignore_index=True)\n",
    "b4_all = b4_m.append([b4_std],ignore_index=True)\n",
    "b5_all = b5_m.append([b5_std],ignore_index=True)\n",
    "\n",
    "out_all = out_all_mean.append([out_all_std],ignore_index=True)"
   ]
  },
  {
   "cell_type": "code",
   "execution_count": 24,
   "id": "bc665423",
   "metadata": {},
   "outputs": [
    {
     "name": "stderr",
     "output_type": "stream",
     "text": [
      "C:\\Users\\HP\\AppData\\Local\\Temp\\ipykernel_14088\\4259588243.py:1: FutureWarning: The frame.append method is deprecated and will be removed from pandas in a future version. Use pandas.concat instead.\n",
      "  bkg = b0_all.append([b1_all,b2_all,b3_all,b4_all,b5_all],ignore_index=True)\n"
     ]
    }
   ],
   "source": [
    "bkg = b0_all.append([b1_all,b2_all,b3_all,b4_all,b5_all],ignore_index=True)"
   ]
  },
  {
   "cell_type": "code",
   "execution_count": 25,
   "id": "ec114a45",
   "metadata": {},
   "outputs": [
    {
     "data": {
      "text/plain": [
       "6300"
      ]
     },
     "execution_count": 25,
     "metadata": {},
     "output_type": "execute_result"
    }
   ],
   "source": [
    "len(b0_all)"
   ]
  },
  {
   "cell_type": "code",
   "execution_count": 26,
   "id": "78c3f299",
   "metadata": {},
   "outputs": [
    {
     "data": {
      "text/plain": [
       "37800"
      ]
     },
     "execution_count": 26,
     "metadata": {},
     "output_type": "execute_result"
    }
   ],
   "source": [
    "len(bkg)"
   ]
  },
  {
   "cell_type": "code",
   "execution_count": 27,
   "id": "8c3d0a89",
   "metadata": {},
   "outputs": [
    {
     "data": {
      "text/plain": [
       "(37800, 1)"
      ]
     },
     "execution_count": 27,
     "metadata": {},
     "output_type": "execute_result"
    }
   ],
   "source": [
    "out_all.shape"
   ]
  },
  {
   "cell_type": "markdown",
   "id": "b3898379",
   "metadata": {},
   "source": [
    "## Adding output to blockage"
   ]
  },
  {
   "cell_type": "code",
   "execution_count": 28,
   "id": "cb814135",
   "metadata": {},
   "outputs": [],
   "source": [
    "bkg['output'] = out_all"
   ]
  },
  {
   "cell_type": "code",
   "execution_count": 29,
   "id": "90596061",
   "metadata": {},
   "outputs": [
    {
     "data": {
      "text/html": [
       "<div>\n",
       "<style scoped>\n",
       "    .dataframe tbody tr th:only-of-type {\n",
       "        vertical-align: middle;\n",
       "    }\n",
       "\n",
       "    .dataframe tbody tr th {\n",
       "        vertical-align: top;\n",
       "    }\n",
       "\n",
       "    .dataframe thead th {\n",
       "        text-align: right;\n",
       "    }\n",
       "</style>\n",
       "<table border=\"1\" class=\"dataframe\">\n",
       "  <thead>\n",
       "    <tr style=\"text-align: right;\">\n",
       "      <th></th>\n",
       "      <th>0</th>\n",
       "      <th>1</th>\n",
       "      <th>2</th>\n",
       "      <th>3</th>\n",
       "      <th>4</th>\n",
       "      <th>5</th>\n",
       "      <th>6</th>\n",
       "      <th>7</th>\n",
       "      <th>8</th>\n",
       "      <th>9</th>\n",
       "      <th>10</th>\n",
       "      <th>output</th>\n",
       "    </tr>\n",
       "  </thead>\n",
       "  <tbody>\n",
       "    <tr>\n",
       "      <th>0</th>\n",
       "      <td>0.000193</td>\n",
       "      <td>-0.000210</td>\n",
       "      <td>0.000406</td>\n",
       "      <td>0.000181</td>\n",
       "      <td>-0.000108</td>\n",
       "      <td>-0.000215</td>\n",
       "      <td>-0.000015</td>\n",
       "      <td>0.000549</td>\n",
       "      <td>-0.000610</td>\n",
       "      <td>0.280856</td>\n",
       "      <td>0.279413</td>\n",
       "      <td>1</td>\n",
       "    </tr>\n",
       "    <tr>\n",
       "      <th>1</th>\n",
       "      <td>0.000201</td>\n",
       "      <td>-0.000221</td>\n",
       "      <td>0.000405</td>\n",
       "      <td>0.000199</td>\n",
       "      <td>-0.000113</td>\n",
       "      <td>-0.000206</td>\n",
       "      <td>0.000053</td>\n",
       "      <td>0.000552</td>\n",
       "      <td>-0.000611</td>\n",
       "      <td>0.280698</td>\n",
       "      <td>0.279419</td>\n",
       "      <td>1</td>\n",
       "    </tr>\n",
       "    <tr>\n",
       "      <th>2</th>\n",
       "      <td>0.000205</td>\n",
       "      <td>-0.000205</td>\n",
       "      <td>0.000402</td>\n",
       "      <td>0.000198</td>\n",
       "      <td>-0.000108</td>\n",
       "      <td>-0.000236</td>\n",
       "      <td>-0.000052</td>\n",
       "      <td>0.000491</td>\n",
       "      <td>-0.000620</td>\n",
       "      <td>0.280619</td>\n",
       "      <td>0.279591</td>\n",
       "      <td>1</td>\n",
       "    </tr>\n",
       "    <tr>\n",
       "      <th>3</th>\n",
       "      <td>0.000203</td>\n",
       "      <td>-0.000224</td>\n",
       "      <td>0.000386</td>\n",
       "      <td>0.000189</td>\n",
       "      <td>-0.000098</td>\n",
       "      <td>-0.000221</td>\n",
       "      <td>-0.000031</td>\n",
       "      <td>0.000509</td>\n",
       "      <td>-0.000580</td>\n",
       "      <td>0.280689</td>\n",
       "      <td>0.279528</td>\n",
       "      <td>1</td>\n",
       "    </tr>\n",
       "    <tr>\n",
       "      <th>4</th>\n",
       "      <td>0.000166</td>\n",
       "      <td>-0.000237</td>\n",
       "      <td>0.000386</td>\n",
       "      <td>0.000183</td>\n",
       "      <td>-0.000116</td>\n",
       "      <td>-0.000235</td>\n",
       "      <td>0.000020</td>\n",
       "      <td>0.000524</td>\n",
       "      <td>-0.000638</td>\n",
       "      <td>0.280828</td>\n",
       "      <td>0.279409</td>\n",
       "      <td>1</td>\n",
       "    </tr>\n",
       "  </tbody>\n",
       "</table>\n",
       "</div>"
      ],
      "text/plain": [
       "          0         1         2         3         4         5         6  \\\n",
       "0  0.000193 -0.000210  0.000406  0.000181 -0.000108 -0.000215 -0.000015   \n",
       "1  0.000201 -0.000221  0.000405  0.000199 -0.000113 -0.000206  0.000053   \n",
       "2  0.000205 -0.000205  0.000402  0.000198 -0.000108 -0.000236 -0.000052   \n",
       "3  0.000203 -0.000224  0.000386  0.000189 -0.000098 -0.000221 -0.000031   \n",
       "4  0.000166 -0.000237  0.000386  0.000183 -0.000116 -0.000235  0.000020   \n",
       "\n",
       "          7         8         9        10  output  \n",
       "0  0.000549 -0.000610  0.280856  0.279413       1  \n",
       "1  0.000552 -0.000611  0.280698  0.279419       1  \n",
       "2  0.000491 -0.000620  0.280619  0.279591       1  \n",
       "3  0.000509 -0.000580  0.280689  0.279528       1  \n",
       "4  0.000524 -0.000638  0.280828  0.279409       1  "
      ]
     },
     "execution_count": 29,
     "metadata": {},
     "output_type": "execute_result"
    }
   ],
   "source": [
    "bkg.head()"
   ]
  },
  {
   "cell_type": "code",
   "execution_count": 30,
   "id": "220355ad",
   "metadata": {},
   "outputs": [
    {
     "data": {
      "text/html": [
       "<div>\n",
       "<style scoped>\n",
       "    .dataframe tbody tr th:only-of-type {\n",
       "        vertical-align: middle;\n",
       "    }\n",
       "\n",
       "    .dataframe tbody tr th {\n",
       "        vertical-align: top;\n",
       "    }\n",
       "\n",
       "    .dataframe thead th {\n",
       "        text-align: right;\n",
       "    }\n",
       "</style>\n",
       "<table border=\"1\" class=\"dataframe\">\n",
       "  <thead>\n",
       "    <tr style=\"text-align: right;\">\n",
       "      <th></th>\n",
       "      <th>0</th>\n",
       "      <th>1</th>\n",
       "      <th>2</th>\n",
       "      <th>3</th>\n",
       "      <th>4</th>\n",
       "      <th>5</th>\n",
       "      <th>6</th>\n",
       "      <th>7</th>\n",
       "      <th>8</th>\n",
       "      <th>9</th>\n",
       "      <th>10</th>\n",
       "      <th>output</th>\n",
       "    </tr>\n",
       "  </thead>\n",
       "  <tbody>\n",
       "    <tr>\n",
       "      <th>37795</th>\n",
       "      <td>0.005172</td>\n",
       "      <td>0.004956</td>\n",
       "      <td>0.005472</td>\n",
       "      <td>0.010681</td>\n",
       "      <td>0.011090</td>\n",
       "      <td>0.007693</td>\n",
       "      <td>0.017478</td>\n",
       "      <td>0.019576</td>\n",
       "      <td>0.019006</td>\n",
       "      <td>0.011566</td>\n",
       "      <td>0.012537</td>\n",
       "      <td>6</td>\n",
       "    </tr>\n",
       "    <tr>\n",
       "      <th>37796</th>\n",
       "      <td>0.005221</td>\n",
       "      <td>0.005129</td>\n",
       "      <td>0.005607</td>\n",
       "      <td>0.010607</td>\n",
       "      <td>0.010878</td>\n",
       "      <td>0.007896</td>\n",
       "      <td>0.017433</td>\n",
       "      <td>0.019507</td>\n",
       "      <td>0.018948</td>\n",
       "      <td>0.011325</td>\n",
       "      <td>0.012467</td>\n",
       "      <td>6</td>\n",
       "    </tr>\n",
       "    <tr>\n",
       "      <th>37797</th>\n",
       "      <td>0.004947</td>\n",
       "      <td>0.004906</td>\n",
       "      <td>0.005247</td>\n",
       "      <td>0.010847</td>\n",
       "      <td>0.010885</td>\n",
       "      <td>0.007622</td>\n",
       "      <td>0.017481</td>\n",
       "      <td>0.019577</td>\n",
       "      <td>0.018996</td>\n",
       "      <td>0.011008</td>\n",
       "      <td>0.011840</td>\n",
       "      <td>6</td>\n",
       "    </tr>\n",
       "    <tr>\n",
       "      <th>37798</th>\n",
       "      <td>0.004944</td>\n",
       "      <td>0.005057</td>\n",
       "      <td>0.005686</td>\n",
       "      <td>0.010994</td>\n",
       "      <td>0.010588</td>\n",
       "      <td>0.007836</td>\n",
       "      <td>0.017421</td>\n",
       "      <td>0.019580</td>\n",
       "      <td>0.019061</td>\n",
       "      <td>0.010647</td>\n",
       "      <td>0.011938</td>\n",
       "      <td>6</td>\n",
       "    </tr>\n",
       "    <tr>\n",
       "      <th>37799</th>\n",
       "      <td>0.005017</td>\n",
       "      <td>0.005285</td>\n",
       "      <td>0.005514</td>\n",
       "      <td>0.010558</td>\n",
       "      <td>0.011056</td>\n",
       "      <td>0.007747</td>\n",
       "      <td>0.017514</td>\n",
       "      <td>0.019607</td>\n",
       "      <td>0.019087</td>\n",
       "      <td>0.011076</td>\n",
       "      <td>0.012414</td>\n",
       "      <td>6</td>\n",
       "    </tr>\n",
       "  </tbody>\n",
       "</table>\n",
       "</div>"
      ],
      "text/plain": [
       "              0         1         2         3         4         5         6  \\\n",
       "37795  0.005172  0.004956  0.005472  0.010681  0.011090  0.007693  0.017478   \n",
       "37796  0.005221  0.005129  0.005607  0.010607  0.010878  0.007896  0.017433   \n",
       "37797  0.004947  0.004906  0.005247  0.010847  0.010885  0.007622  0.017481   \n",
       "37798  0.004944  0.005057  0.005686  0.010994  0.010588  0.007836  0.017421   \n",
       "37799  0.005017  0.005285  0.005514  0.010558  0.011056  0.007747  0.017514   \n",
       "\n",
       "              7         8         9        10  output  \n",
       "37795  0.019576  0.019006  0.011566  0.012537       6  \n",
       "37796  0.019507  0.018948  0.011325  0.012467       6  \n",
       "37797  0.019577  0.018996  0.011008  0.011840       6  \n",
       "37798  0.019580  0.019061  0.010647  0.011938       6  \n",
       "37799  0.019607  0.019087  0.011076  0.012414       6  "
      ]
     },
     "execution_count": 30,
     "metadata": {},
     "output_type": "execute_result"
    }
   ],
   "source": [
    "bkg.tail()"
   ]
  },
  {
   "cell_type": "markdown",
   "id": "5ca11b70",
   "metadata": {},
   "source": [
    "## Defining x,y"
   ]
  },
  {
   "cell_type": "code",
   "execution_count": 31,
   "id": "bb36c7f9",
   "metadata": {},
   "outputs": [],
   "source": [
    "x = bkg.iloc[:, :-1].values  \n",
    "y = bkg.iloc[:, -1].values"
   ]
  },
  {
   "cell_type": "code",
   "execution_count": 32,
   "id": "6cc787aa",
   "metadata": {},
   "outputs": [
    {
     "name": "stdout",
     "output_type": "stream",
     "text": [
      "[[ 1.93053987e-04 -2.10296945e-04  4.05639821e-04 ... -6.09741508e-04\n",
      "   2.80855647e-01  2.79412952e-01]\n",
      " [ 2.01123081e-04 -2.21430097e-04  4.04980621e-04 ... -6.10766930e-04\n",
      "   2.80698459e-01  2.79418732e-01]\n",
      " [ 2.05334635e-04 -2.05188147e-04  4.01544237e-04 ... -6.20123905e-04\n",
      "   2.80618531e-01  2.79590942e-01]\n",
      " ...\n",
      " [ 4.94657308e-03  4.90620358e-03  5.24654870e-03 ...  1.89958496e-02\n",
      "   1.10082682e-02  1.18404549e-02]\n",
      " [ 4.94443875e-03  5.05726323e-03  5.68567326e-03 ...  1.90608186e-02\n",
      "   1.06474693e-02  1.19379045e-02]\n",
      " [ 5.01675005e-03  5.28494029e-03  5.51446758e-03 ...  1.90867089e-02\n",
      "   1.10761213e-02  1.24136282e-02]]\n"
     ]
    }
   ],
   "source": [
    "print(x)"
   ]
  },
  {
   "cell_type": "code",
   "execution_count": 33,
   "id": "5b466627",
   "metadata": {},
   "outputs": [],
   "source": [
    "y = pd.get_dummies(bkg['output'])\n"
   ]
  },
  {
   "cell_type": "code",
   "execution_count": 34,
   "id": "505c9984",
   "metadata": {},
   "outputs": [
    {
     "name": "stdout",
     "output_type": "stream",
     "text": [
      "       1  2  3  4  5  6\n",
      "0      1  0  0  0  0  0\n",
      "1      1  0  0  0  0  0\n",
      "2      1  0  0  0  0  0\n",
      "3      1  0  0  0  0  0\n",
      "4      1  0  0  0  0  0\n",
      "...   .. .. .. .. .. ..\n",
      "37795  0  0  0  0  0  1\n",
      "37796  0  0  0  0  0  1\n",
      "37797  0  0  0  0  0  1\n",
      "37798  0  0  0  0  0  1\n",
      "37799  0  0  0  0  0  1\n",
      "\n",
      "[37800 rows x 6 columns]\n"
     ]
    }
   ],
   "source": [
    "print(y)"
   ]
  },
  {
   "cell_type": "code",
   "execution_count": 35,
   "id": "dec0a988",
   "metadata": {},
   "outputs": [],
   "source": [
    "bkg['c1'] = y[1]\n",
    "bkg['c2'] = y[2]\n",
    "bkg['c3'] = y[3]\n",
    "bkg['c4'] = y[4]\n",
    "bkg['c5'] = y[5]\n",
    "bkg['c6'] = y[6]"
   ]
  },
  {
   "cell_type": "code",
   "execution_count": 36,
   "id": "623b13b8",
   "metadata": {},
   "outputs": [
    {
     "data": {
      "text/html": [
       "<div>\n",
       "<style scoped>\n",
       "    .dataframe tbody tr th:only-of-type {\n",
       "        vertical-align: middle;\n",
       "    }\n",
       "\n",
       "    .dataframe tbody tr th {\n",
       "        vertical-align: top;\n",
       "    }\n",
       "\n",
       "    .dataframe thead th {\n",
       "        text-align: right;\n",
       "    }\n",
       "</style>\n",
       "<table border=\"1\" class=\"dataframe\">\n",
       "  <thead>\n",
       "    <tr style=\"text-align: right;\">\n",
       "      <th></th>\n",
       "      <th>0</th>\n",
       "      <th>1</th>\n",
       "      <th>2</th>\n",
       "      <th>3</th>\n",
       "      <th>4</th>\n",
       "      <th>5</th>\n",
       "      <th>6</th>\n",
       "      <th>7</th>\n",
       "      <th>8</th>\n",
       "      <th>9</th>\n",
       "      <th>10</th>\n",
       "      <th>output</th>\n",
       "      <th>c1</th>\n",
       "      <th>c2</th>\n",
       "      <th>c3</th>\n",
       "      <th>c4</th>\n",
       "      <th>c5</th>\n",
       "      <th>c6</th>\n",
       "    </tr>\n",
       "  </thead>\n",
       "  <tbody>\n",
       "    <tr>\n",
       "      <th>0</th>\n",
       "      <td>0.000193</td>\n",
       "      <td>-0.000210</td>\n",
       "      <td>0.000406</td>\n",
       "      <td>0.000181</td>\n",
       "      <td>-0.000108</td>\n",
       "      <td>-0.000215</td>\n",
       "      <td>-0.000015</td>\n",
       "      <td>0.000549</td>\n",
       "      <td>-0.000610</td>\n",
       "      <td>0.280856</td>\n",
       "      <td>0.279413</td>\n",
       "      <td>1</td>\n",
       "      <td>1</td>\n",
       "      <td>0</td>\n",
       "      <td>0</td>\n",
       "      <td>0</td>\n",
       "      <td>0</td>\n",
       "      <td>0</td>\n",
       "    </tr>\n",
       "    <tr>\n",
       "      <th>1</th>\n",
       "      <td>0.000201</td>\n",
       "      <td>-0.000221</td>\n",
       "      <td>0.000405</td>\n",
       "      <td>0.000199</td>\n",
       "      <td>-0.000113</td>\n",
       "      <td>-0.000206</td>\n",
       "      <td>0.000053</td>\n",
       "      <td>0.000552</td>\n",
       "      <td>-0.000611</td>\n",
       "      <td>0.280698</td>\n",
       "      <td>0.279419</td>\n",
       "      <td>1</td>\n",
       "      <td>1</td>\n",
       "      <td>0</td>\n",
       "      <td>0</td>\n",
       "      <td>0</td>\n",
       "      <td>0</td>\n",
       "      <td>0</td>\n",
       "    </tr>\n",
       "    <tr>\n",
       "      <th>2</th>\n",
       "      <td>0.000205</td>\n",
       "      <td>-0.000205</td>\n",
       "      <td>0.000402</td>\n",
       "      <td>0.000198</td>\n",
       "      <td>-0.000108</td>\n",
       "      <td>-0.000236</td>\n",
       "      <td>-0.000052</td>\n",
       "      <td>0.000491</td>\n",
       "      <td>-0.000620</td>\n",
       "      <td>0.280619</td>\n",
       "      <td>0.279591</td>\n",
       "      <td>1</td>\n",
       "      <td>1</td>\n",
       "      <td>0</td>\n",
       "      <td>0</td>\n",
       "      <td>0</td>\n",
       "      <td>0</td>\n",
       "      <td>0</td>\n",
       "    </tr>\n",
       "    <tr>\n",
       "      <th>3</th>\n",
       "      <td>0.000203</td>\n",
       "      <td>-0.000224</td>\n",
       "      <td>0.000386</td>\n",
       "      <td>0.000189</td>\n",
       "      <td>-0.000098</td>\n",
       "      <td>-0.000221</td>\n",
       "      <td>-0.000031</td>\n",
       "      <td>0.000509</td>\n",
       "      <td>-0.000580</td>\n",
       "      <td>0.280689</td>\n",
       "      <td>0.279528</td>\n",
       "      <td>1</td>\n",
       "      <td>1</td>\n",
       "      <td>0</td>\n",
       "      <td>0</td>\n",
       "      <td>0</td>\n",
       "      <td>0</td>\n",
       "      <td>0</td>\n",
       "    </tr>\n",
       "    <tr>\n",
       "      <th>4</th>\n",
       "      <td>0.000166</td>\n",
       "      <td>-0.000237</td>\n",
       "      <td>0.000386</td>\n",
       "      <td>0.000183</td>\n",
       "      <td>-0.000116</td>\n",
       "      <td>-0.000235</td>\n",
       "      <td>0.000020</td>\n",
       "      <td>0.000524</td>\n",
       "      <td>-0.000638</td>\n",
       "      <td>0.280828</td>\n",
       "      <td>0.279409</td>\n",
       "      <td>1</td>\n",
       "      <td>1</td>\n",
       "      <td>0</td>\n",
       "      <td>0</td>\n",
       "      <td>0</td>\n",
       "      <td>0</td>\n",
       "      <td>0</td>\n",
       "    </tr>\n",
       "    <tr>\n",
       "      <th>...</th>\n",
       "      <td>...</td>\n",
       "      <td>...</td>\n",
       "      <td>...</td>\n",
       "      <td>...</td>\n",
       "      <td>...</td>\n",
       "      <td>...</td>\n",
       "      <td>...</td>\n",
       "      <td>...</td>\n",
       "      <td>...</td>\n",
       "      <td>...</td>\n",
       "      <td>...</td>\n",
       "      <td>...</td>\n",
       "      <td>...</td>\n",
       "      <td>...</td>\n",
       "      <td>...</td>\n",
       "      <td>...</td>\n",
       "      <td>...</td>\n",
       "      <td>...</td>\n",
       "    </tr>\n",
       "    <tr>\n",
       "      <th>37795</th>\n",
       "      <td>0.005172</td>\n",
       "      <td>0.004956</td>\n",
       "      <td>0.005472</td>\n",
       "      <td>0.010681</td>\n",
       "      <td>0.011090</td>\n",
       "      <td>0.007693</td>\n",
       "      <td>0.017478</td>\n",
       "      <td>0.019576</td>\n",
       "      <td>0.019006</td>\n",
       "      <td>0.011566</td>\n",
       "      <td>0.012537</td>\n",
       "      <td>6</td>\n",
       "      <td>0</td>\n",
       "      <td>0</td>\n",
       "      <td>0</td>\n",
       "      <td>0</td>\n",
       "      <td>0</td>\n",
       "      <td>1</td>\n",
       "    </tr>\n",
       "    <tr>\n",
       "      <th>37796</th>\n",
       "      <td>0.005221</td>\n",
       "      <td>0.005129</td>\n",
       "      <td>0.005607</td>\n",
       "      <td>0.010607</td>\n",
       "      <td>0.010878</td>\n",
       "      <td>0.007896</td>\n",
       "      <td>0.017433</td>\n",
       "      <td>0.019507</td>\n",
       "      <td>0.018948</td>\n",
       "      <td>0.011325</td>\n",
       "      <td>0.012467</td>\n",
       "      <td>6</td>\n",
       "      <td>0</td>\n",
       "      <td>0</td>\n",
       "      <td>0</td>\n",
       "      <td>0</td>\n",
       "      <td>0</td>\n",
       "      <td>1</td>\n",
       "    </tr>\n",
       "    <tr>\n",
       "      <th>37797</th>\n",
       "      <td>0.004947</td>\n",
       "      <td>0.004906</td>\n",
       "      <td>0.005247</td>\n",
       "      <td>0.010847</td>\n",
       "      <td>0.010885</td>\n",
       "      <td>0.007622</td>\n",
       "      <td>0.017481</td>\n",
       "      <td>0.019577</td>\n",
       "      <td>0.018996</td>\n",
       "      <td>0.011008</td>\n",
       "      <td>0.011840</td>\n",
       "      <td>6</td>\n",
       "      <td>0</td>\n",
       "      <td>0</td>\n",
       "      <td>0</td>\n",
       "      <td>0</td>\n",
       "      <td>0</td>\n",
       "      <td>1</td>\n",
       "    </tr>\n",
       "    <tr>\n",
       "      <th>37798</th>\n",
       "      <td>0.004944</td>\n",
       "      <td>0.005057</td>\n",
       "      <td>0.005686</td>\n",
       "      <td>0.010994</td>\n",
       "      <td>0.010588</td>\n",
       "      <td>0.007836</td>\n",
       "      <td>0.017421</td>\n",
       "      <td>0.019580</td>\n",
       "      <td>0.019061</td>\n",
       "      <td>0.010647</td>\n",
       "      <td>0.011938</td>\n",
       "      <td>6</td>\n",
       "      <td>0</td>\n",
       "      <td>0</td>\n",
       "      <td>0</td>\n",
       "      <td>0</td>\n",
       "      <td>0</td>\n",
       "      <td>1</td>\n",
       "    </tr>\n",
       "    <tr>\n",
       "      <th>37799</th>\n",
       "      <td>0.005017</td>\n",
       "      <td>0.005285</td>\n",
       "      <td>0.005514</td>\n",
       "      <td>0.010558</td>\n",
       "      <td>0.011056</td>\n",
       "      <td>0.007747</td>\n",
       "      <td>0.017514</td>\n",
       "      <td>0.019607</td>\n",
       "      <td>0.019087</td>\n",
       "      <td>0.011076</td>\n",
       "      <td>0.012414</td>\n",
       "      <td>6</td>\n",
       "      <td>0</td>\n",
       "      <td>0</td>\n",
       "      <td>0</td>\n",
       "      <td>0</td>\n",
       "      <td>0</td>\n",
       "      <td>1</td>\n",
       "    </tr>\n",
       "  </tbody>\n",
       "</table>\n",
       "<p>37800 rows × 18 columns</p>\n",
       "</div>"
      ],
      "text/plain": [
       "              0         1         2         3         4         5         6  \\\n",
       "0      0.000193 -0.000210  0.000406  0.000181 -0.000108 -0.000215 -0.000015   \n",
       "1      0.000201 -0.000221  0.000405  0.000199 -0.000113 -0.000206  0.000053   \n",
       "2      0.000205 -0.000205  0.000402  0.000198 -0.000108 -0.000236 -0.000052   \n",
       "3      0.000203 -0.000224  0.000386  0.000189 -0.000098 -0.000221 -0.000031   \n",
       "4      0.000166 -0.000237  0.000386  0.000183 -0.000116 -0.000235  0.000020   \n",
       "...         ...       ...       ...       ...       ...       ...       ...   \n",
       "37795  0.005172  0.004956  0.005472  0.010681  0.011090  0.007693  0.017478   \n",
       "37796  0.005221  0.005129  0.005607  0.010607  0.010878  0.007896  0.017433   \n",
       "37797  0.004947  0.004906  0.005247  0.010847  0.010885  0.007622  0.017481   \n",
       "37798  0.004944  0.005057  0.005686  0.010994  0.010588  0.007836  0.017421   \n",
       "37799  0.005017  0.005285  0.005514  0.010558  0.011056  0.007747  0.017514   \n",
       "\n",
       "              7         8         9        10  output  c1  c2  c3  c4  c5  c6  \n",
       "0      0.000549 -0.000610  0.280856  0.279413       1   1   0   0   0   0   0  \n",
       "1      0.000552 -0.000611  0.280698  0.279419       1   1   0   0   0   0   0  \n",
       "2      0.000491 -0.000620  0.280619  0.279591       1   1   0   0   0   0   0  \n",
       "3      0.000509 -0.000580  0.280689  0.279528       1   1   0   0   0   0   0  \n",
       "4      0.000524 -0.000638  0.280828  0.279409       1   1   0   0   0   0   0  \n",
       "...         ...       ...       ...       ...     ...  ..  ..  ..  ..  ..  ..  \n",
       "37795  0.019576  0.019006  0.011566  0.012537       6   0   0   0   0   0   1  \n",
       "37796  0.019507  0.018948  0.011325  0.012467       6   0   0   0   0   0   1  \n",
       "37797  0.019577  0.018996  0.011008  0.011840       6   0   0   0   0   0   1  \n",
       "37798  0.019580  0.019061  0.010647  0.011938       6   0   0   0   0   0   1  \n",
       "37799  0.019607  0.019087  0.011076  0.012414       6   0   0   0   0   0   1  \n",
       "\n",
       "[37800 rows x 18 columns]"
      ]
     },
     "execution_count": 36,
     "metadata": {},
     "output_type": "execute_result"
    }
   ],
   "source": [
    "bkg"
   ]
  },
  {
   "cell_type": "code",
   "execution_count": 37,
   "id": "6e76fc45",
   "metadata": {},
   "outputs": [
    {
     "data": {
      "text/html": [
       "<div>\n",
       "<style scoped>\n",
       "    .dataframe tbody tr th:only-of-type {\n",
       "        vertical-align: middle;\n",
       "    }\n",
       "\n",
       "    .dataframe tbody tr th {\n",
       "        vertical-align: top;\n",
       "    }\n",
       "\n",
       "    .dataframe thead th {\n",
       "        text-align: right;\n",
       "    }\n",
       "</style>\n",
       "<table border=\"1\" class=\"dataframe\">\n",
       "  <thead>\n",
       "    <tr style=\"text-align: right;\">\n",
       "      <th></th>\n",
       "      <th>0</th>\n",
       "      <th>1</th>\n",
       "      <th>2</th>\n",
       "      <th>3</th>\n",
       "      <th>4</th>\n",
       "      <th>5</th>\n",
       "      <th>6</th>\n",
       "      <th>7</th>\n",
       "      <th>8</th>\n",
       "      <th>9</th>\n",
       "      <th>10</th>\n",
       "      <th>c1</th>\n",
       "      <th>c2</th>\n",
       "      <th>c3</th>\n",
       "      <th>c4</th>\n",
       "      <th>c5</th>\n",
       "      <th>c6</th>\n",
       "    </tr>\n",
       "  </thead>\n",
       "  <tbody>\n",
       "    <tr>\n",
       "      <th>0</th>\n",
       "      <td>0.000193</td>\n",
       "      <td>-0.000210</td>\n",
       "      <td>0.000406</td>\n",
       "      <td>0.000181</td>\n",
       "      <td>-0.000108</td>\n",
       "      <td>-0.000215</td>\n",
       "      <td>-0.000015</td>\n",
       "      <td>0.000549</td>\n",
       "      <td>-0.000610</td>\n",
       "      <td>0.280856</td>\n",
       "      <td>0.279413</td>\n",
       "      <td>1</td>\n",
       "      <td>0</td>\n",
       "      <td>0</td>\n",
       "      <td>0</td>\n",
       "      <td>0</td>\n",
       "      <td>0</td>\n",
       "    </tr>\n",
       "    <tr>\n",
       "      <th>1</th>\n",
       "      <td>0.000201</td>\n",
       "      <td>-0.000221</td>\n",
       "      <td>0.000405</td>\n",
       "      <td>0.000199</td>\n",
       "      <td>-0.000113</td>\n",
       "      <td>-0.000206</td>\n",
       "      <td>0.000053</td>\n",
       "      <td>0.000552</td>\n",
       "      <td>-0.000611</td>\n",
       "      <td>0.280698</td>\n",
       "      <td>0.279419</td>\n",
       "      <td>1</td>\n",
       "      <td>0</td>\n",
       "      <td>0</td>\n",
       "      <td>0</td>\n",
       "      <td>0</td>\n",
       "      <td>0</td>\n",
       "    </tr>\n",
       "    <tr>\n",
       "      <th>2</th>\n",
       "      <td>0.000205</td>\n",
       "      <td>-0.000205</td>\n",
       "      <td>0.000402</td>\n",
       "      <td>0.000198</td>\n",
       "      <td>-0.000108</td>\n",
       "      <td>-0.000236</td>\n",
       "      <td>-0.000052</td>\n",
       "      <td>0.000491</td>\n",
       "      <td>-0.000620</td>\n",
       "      <td>0.280619</td>\n",
       "      <td>0.279591</td>\n",
       "      <td>1</td>\n",
       "      <td>0</td>\n",
       "      <td>0</td>\n",
       "      <td>0</td>\n",
       "      <td>0</td>\n",
       "      <td>0</td>\n",
       "    </tr>\n",
       "    <tr>\n",
       "      <th>3</th>\n",
       "      <td>0.000203</td>\n",
       "      <td>-0.000224</td>\n",
       "      <td>0.000386</td>\n",
       "      <td>0.000189</td>\n",
       "      <td>-0.000098</td>\n",
       "      <td>-0.000221</td>\n",
       "      <td>-0.000031</td>\n",
       "      <td>0.000509</td>\n",
       "      <td>-0.000580</td>\n",
       "      <td>0.280689</td>\n",
       "      <td>0.279528</td>\n",
       "      <td>1</td>\n",
       "      <td>0</td>\n",
       "      <td>0</td>\n",
       "      <td>0</td>\n",
       "      <td>0</td>\n",
       "      <td>0</td>\n",
       "    </tr>\n",
       "    <tr>\n",
       "      <th>4</th>\n",
       "      <td>0.000166</td>\n",
       "      <td>-0.000237</td>\n",
       "      <td>0.000386</td>\n",
       "      <td>0.000183</td>\n",
       "      <td>-0.000116</td>\n",
       "      <td>-0.000235</td>\n",
       "      <td>0.000020</td>\n",
       "      <td>0.000524</td>\n",
       "      <td>-0.000638</td>\n",
       "      <td>0.280828</td>\n",
       "      <td>0.279409</td>\n",
       "      <td>1</td>\n",
       "      <td>0</td>\n",
       "      <td>0</td>\n",
       "      <td>0</td>\n",
       "      <td>0</td>\n",
       "      <td>0</td>\n",
       "    </tr>\n",
       "    <tr>\n",
       "      <th>...</th>\n",
       "      <td>...</td>\n",
       "      <td>...</td>\n",
       "      <td>...</td>\n",
       "      <td>...</td>\n",
       "      <td>...</td>\n",
       "      <td>...</td>\n",
       "      <td>...</td>\n",
       "      <td>...</td>\n",
       "      <td>...</td>\n",
       "      <td>...</td>\n",
       "      <td>...</td>\n",
       "      <td>...</td>\n",
       "      <td>...</td>\n",
       "      <td>...</td>\n",
       "      <td>...</td>\n",
       "      <td>...</td>\n",
       "      <td>...</td>\n",
       "    </tr>\n",
       "    <tr>\n",
       "      <th>37795</th>\n",
       "      <td>0.005172</td>\n",
       "      <td>0.004956</td>\n",
       "      <td>0.005472</td>\n",
       "      <td>0.010681</td>\n",
       "      <td>0.011090</td>\n",
       "      <td>0.007693</td>\n",
       "      <td>0.017478</td>\n",
       "      <td>0.019576</td>\n",
       "      <td>0.019006</td>\n",
       "      <td>0.011566</td>\n",
       "      <td>0.012537</td>\n",
       "      <td>0</td>\n",
       "      <td>0</td>\n",
       "      <td>0</td>\n",
       "      <td>0</td>\n",
       "      <td>0</td>\n",
       "      <td>1</td>\n",
       "    </tr>\n",
       "    <tr>\n",
       "      <th>37796</th>\n",
       "      <td>0.005221</td>\n",
       "      <td>0.005129</td>\n",
       "      <td>0.005607</td>\n",
       "      <td>0.010607</td>\n",
       "      <td>0.010878</td>\n",
       "      <td>0.007896</td>\n",
       "      <td>0.017433</td>\n",
       "      <td>0.019507</td>\n",
       "      <td>0.018948</td>\n",
       "      <td>0.011325</td>\n",
       "      <td>0.012467</td>\n",
       "      <td>0</td>\n",
       "      <td>0</td>\n",
       "      <td>0</td>\n",
       "      <td>0</td>\n",
       "      <td>0</td>\n",
       "      <td>1</td>\n",
       "    </tr>\n",
       "    <tr>\n",
       "      <th>37797</th>\n",
       "      <td>0.004947</td>\n",
       "      <td>0.004906</td>\n",
       "      <td>0.005247</td>\n",
       "      <td>0.010847</td>\n",
       "      <td>0.010885</td>\n",
       "      <td>0.007622</td>\n",
       "      <td>0.017481</td>\n",
       "      <td>0.019577</td>\n",
       "      <td>0.018996</td>\n",
       "      <td>0.011008</td>\n",
       "      <td>0.011840</td>\n",
       "      <td>0</td>\n",
       "      <td>0</td>\n",
       "      <td>0</td>\n",
       "      <td>0</td>\n",
       "      <td>0</td>\n",
       "      <td>1</td>\n",
       "    </tr>\n",
       "    <tr>\n",
       "      <th>37798</th>\n",
       "      <td>0.004944</td>\n",
       "      <td>0.005057</td>\n",
       "      <td>0.005686</td>\n",
       "      <td>0.010994</td>\n",
       "      <td>0.010588</td>\n",
       "      <td>0.007836</td>\n",
       "      <td>0.017421</td>\n",
       "      <td>0.019580</td>\n",
       "      <td>0.019061</td>\n",
       "      <td>0.010647</td>\n",
       "      <td>0.011938</td>\n",
       "      <td>0</td>\n",
       "      <td>0</td>\n",
       "      <td>0</td>\n",
       "      <td>0</td>\n",
       "      <td>0</td>\n",
       "      <td>1</td>\n",
       "    </tr>\n",
       "    <tr>\n",
       "      <th>37799</th>\n",
       "      <td>0.005017</td>\n",
       "      <td>0.005285</td>\n",
       "      <td>0.005514</td>\n",
       "      <td>0.010558</td>\n",
       "      <td>0.011056</td>\n",
       "      <td>0.007747</td>\n",
       "      <td>0.017514</td>\n",
       "      <td>0.019607</td>\n",
       "      <td>0.019087</td>\n",
       "      <td>0.011076</td>\n",
       "      <td>0.012414</td>\n",
       "      <td>0</td>\n",
       "      <td>0</td>\n",
       "      <td>0</td>\n",
       "      <td>0</td>\n",
       "      <td>0</td>\n",
       "      <td>1</td>\n",
       "    </tr>\n",
       "  </tbody>\n",
       "</table>\n",
       "<p>37800 rows × 17 columns</p>\n",
       "</div>"
      ],
      "text/plain": [
       "              0         1         2         3         4         5         6  \\\n",
       "0      0.000193 -0.000210  0.000406  0.000181 -0.000108 -0.000215 -0.000015   \n",
       "1      0.000201 -0.000221  0.000405  0.000199 -0.000113 -0.000206  0.000053   \n",
       "2      0.000205 -0.000205  0.000402  0.000198 -0.000108 -0.000236 -0.000052   \n",
       "3      0.000203 -0.000224  0.000386  0.000189 -0.000098 -0.000221 -0.000031   \n",
       "4      0.000166 -0.000237  0.000386  0.000183 -0.000116 -0.000235  0.000020   \n",
       "...         ...       ...       ...       ...       ...       ...       ...   \n",
       "37795  0.005172  0.004956  0.005472  0.010681  0.011090  0.007693  0.017478   \n",
       "37796  0.005221  0.005129  0.005607  0.010607  0.010878  0.007896  0.017433   \n",
       "37797  0.004947  0.004906  0.005247  0.010847  0.010885  0.007622  0.017481   \n",
       "37798  0.004944  0.005057  0.005686  0.010994  0.010588  0.007836  0.017421   \n",
       "37799  0.005017  0.005285  0.005514  0.010558  0.011056  0.007747  0.017514   \n",
       "\n",
       "              7         8         9        10  c1  c2  c3  c4  c5  c6  \n",
       "0      0.000549 -0.000610  0.280856  0.279413   1   0   0   0   0   0  \n",
       "1      0.000552 -0.000611  0.280698  0.279419   1   0   0   0   0   0  \n",
       "2      0.000491 -0.000620  0.280619  0.279591   1   0   0   0   0   0  \n",
       "3      0.000509 -0.000580  0.280689  0.279528   1   0   0   0   0   0  \n",
       "4      0.000524 -0.000638  0.280828  0.279409   1   0   0   0   0   0  \n",
       "...         ...       ...       ...       ...  ..  ..  ..  ..  ..  ..  \n",
       "37795  0.019576  0.019006  0.011566  0.012537   0   0   0   0   0   1  \n",
       "37796  0.019507  0.018948  0.011325  0.012467   0   0   0   0   0   1  \n",
       "37797  0.019577  0.018996  0.011008  0.011840   0   0   0   0   0   1  \n",
       "37798  0.019580  0.019061  0.010647  0.011938   0   0   0   0   0   1  \n",
       "37799  0.019607  0.019087  0.011076  0.012414   0   0   0   0   0   1  \n",
       "\n",
       "[37800 rows x 17 columns]"
      ]
     },
     "execution_count": 37,
     "metadata": {},
     "output_type": "execute_result"
    }
   ],
   "source": [
    "bkg.drop(['output'],axis=1)"
   ]
  },
  {
   "cell_type": "markdown",
   "id": "78fccb73",
   "metadata": {},
   "source": [
    "## Splitting the dataset into the Training set and Test set"
   ]
  },
  {
   "cell_type": "code",
   "execution_count": 38,
   "id": "a9f12563",
   "metadata": {},
   "outputs": [],
   "source": [
    "from sklearn.model_selection import train_test_split\n",
    "x_train, x_test, y_train, y_test = train_test_split(x, y, test_size = 0.2, random_state = 1)"
   ]
  },
  {
   "cell_type": "code",
   "execution_count": 39,
   "id": "f3b4b329",
   "metadata": {},
   "outputs": [
    {
     "data": {
      "text/plain": [
       "(30240, 11)"
      ]
     },
     "execution_count": 39,
     "metadata": {},
     "output_type": "execute_result"
    }
   ],
   "source": [
    "x_train.shape"
   ]
  },
  {
   "cell_type": "code",
   "execution_count": 40,
   "id": "14ded622",
   "metadata": {},
   "outputs": [
    {
     "name": "stdout",
     "output_type": "stream",
     "text": [
      "[[ 3.23276077e-03  2.66416211e-03  2.68099007e-03 ...  1.80607738e-02\n",
      "   9.16099850e-03  8.88321689e-03]\n",
      " [ 5.31034816e-03  4.97768918e-03  4.41863964e-03 ...  2.42601336e-02\n",
      "   1.10948318e-02  1.19568665e-02]\n",
      " [ 2.90984601e-03  2.56081687e-03  2.35879213e-03 ...  1.66875265e-02\n",
      "   7.29445454e-03  8.88509661e-03]\n",
      " ...\n",
      " [ 8.72027841e-03  8.69030584e-03  7.34024380e-03 ...  2.53780259e-02\n",
      "   1.16610681e-02  1.22189956e-02]\n",
      " [ 4.71811984e-03  6.00091971e-03  3.42907931e-03 ...  2.21039800e-02\n",
      "   1.03169415e-02  1.18565764e-02]\n",
      " [ 2.53224281e-04 -1.32480850e-04  3.74608600e-04 ... -6.49977111e-04\n",
      "   2.28411255e-01  2.34148241e-01]]\n"
     ]
    }
   ],
   "source": [
    "print(x_train)"
   ]
  },
  {
   "cell_type": "code",
   "execution_count": 41,
   "id": "13b09f0b",
   "metadata": {},
   "outputs": [
    {
     "name": "stdout",
     "output_type": "stream",
     "text": [
      "       1  2  3  4  5  6\n",
      "4343   0  1  0  0  0  0\n",
      "10385  0  0  0  1  0  0\n",
      "16910  0  0  0  0  0  1\n",
      "26483  0  0  1  0  0  0\n",
      "17454  0  0  0  0  0  1\n",
      "...   .. .. .. .. .. ..\n",
      "7813   0  0  1  0  0  0\n",
      "32511  0  0  0  0  1  0\n",
      "5192   0  1  0  0  0  0\n",
      "12172  0  0  0  1  0  0\n",
      "33003  0  0  0  0  1  0\n",
      "\n",
      "[30240 rows x 6 columns]\n"
     ]
    }
   ],
   "source": [
    "print(y_train)"
   ]
  },
  {
   "cell_type": "code",
   "execution_count": 42,
   "id": "9cefddcf",
   "metadata": {},
   "outputs": [
    {
     "name": "stdout",
     "output_type": "stream",
     "text": [
      "[[ 2.07971435e-04 -1.68919950e-04  3.54387036e-04 ... -4.84340953e-04\n",
      "   2.86262178e-01  2.86647420e-01]\n",
      " [ 2.15704825e-04 -1.79674673e-04  3.79155858e-04 ... -2.36823634e-04\n",
      "   3.45025050e-01  3.40225709e-01]\n",
      " [ 2.01312296e-04 -1.74376659e-04  3.40800195e-04 ... -4.94973601e-04\n",
      "   2.41508249e-01  2.45834376e-01]\n",
      " ...\n",
      " [ 2.38978240e-04 -1.44486831e-04  3.95092624e-04 ... -6.55769524e-04\n",
      "   2.24575829e-01  2.29921366e-01]\n",
      " [ 2.69418606e-03  3.43990356e-03  2.43605215e-03 ...  1.78491962e-02\n",
      "   7.73081549e-03  8.15164369e-03]\n",
      " [ 2.32416761e-04 -1.80022584e-04  3.99078341e-04 ... -4.53187658e-04\n",
      "   2.70694259e-01  2.72486416e-01]]\n"
     ]
    }
   ],
   "source": [
    "print(x_test)"
   ]
  },
  {
   "cell_type": "code",
   "execution_count": 43,
   "id": "f57a1704",
   "metadata": {},
   "outputs": [
    {
     "name": "stdout",
     "output_type": "stream",
     "text": [
      "       1  2  3  4  5  6\n",
      "14942  0  0  0  0  1  0\n",
      "1761   1  0  0  0  0  0\n",
      "21213  1  0  0  0  0  0\n",
      "10733  0  0  0  1  0  0\n",
      "29532  0  0  0  1  0  0\n",
      "...   .. .. .. .. .. ..\n",
      "12922  0  0  0  0  1  0\n",
      "3565   0  1  0  0  0  0\n",
      "32573  0  0  0  0  1  0\n",
      "11757  0  0  0  1  0  0\n",
      "12716  0  0  0  0  1  0\n",
      "\n",
      "[7560 rows x 6 columns]\n"
     ]
    }
   ],
   "source": [
    "print(y_test)"
   ]
  },
  {
   "cell_type": "markdown",
   "id": "32a11df9",
   "metadata": {},
   "source": [
    "## Feature Scaling"
   ]
  },
  {
   "cell_type": "code",
   "execution_count": 44,
   "id": "753ae936",
   "metadata": {},
   "outputs": [],
   "source": [
    "from sklearn.preprocessing import StandardScaler\n",
    "sc = StandardScaler()\n",
    "x_train = sc.fit_transform(x_train)\n",
    "x_test = sc.transform(x_test)"
   ]
  },
  {
   "cell_type": "code",
   "execution_count": 45,
   "id": "c04b859f",
   "metadata": {},
   "outputs": [
    {
     "name": "stdout",
     "output_type": "stream",
     "text": [
      "[[ 0.30167932  0.15451222  0.25620714 ...  0.84838414 -0.96875728\n",
      "  -0.97728538]\n",
      " [ 1.11771823  1.0137963   1.12892723 ...  1.459433   -0.95525455\n",
      "  -0.95550838]\n",
      " [ 0.17484422  0.11612801  0.0943859  ...  0.71302803 -0.98179018\n",
      "  -0.97727206]\n",
      " ...\n",
      " [ 2.45707741  2.39272653  2.59627869 ...  1.56961968 -0.95130088\n",
      "  -0.95365118]\n",
      " [ 0.88510161  1.39384187  0.63192876 ...  1.24690861 -0.96068606\n",
      "  -0.95621894]\n",
      " [-0.86862895 -0.88420949 -0.90215383 ... -0.99586807  0.56212881\n",
      "   0.61873144]]\n"
     ]
    }
   ],
   "source": [
    "print(x_train)"
   ]
  },
  {
   "cell_type": "code",
   "execution_count": 46,
   "id": "d016d129",
   "metadata": {},
   "outputs": [
    {
     "name": "stdout",
     "output_type": "stream",
     "text": [
      "[[-0.88640345 -0.8977436  -0.91230994 ... -0.97954191  0.96606527\n",
      "   0.99069141]\n",
      " [-0.88336591 -0.90173809 -0.89987001 ... -0.955145    1.3763693\n",
      "   1.37029695]\n",
      " [-0.88901904 -0.89977032 -0.91913382 ... -0.98058993  0.65357685\n",
      "   0.70152844]\n",
      " ...\n",
      " [-0.87422453 -0.88866872 -0.8918659  ... -0.99643901  0.53534845\n",
      "   0.58878376]\n",
      " [ 0.09013688  0.44263605  0.1331891  ...  0.82752969 -0.97874335\n",
      "  -0.98246862]\n",
      " [-0.87680176 -0.90186731 -0.8898641  ... -0.97647124  0.85736433\n",
      "   0.89035981]]\n"
     ]
    }
   ],
   "source": [
    "print(x_test)"
   ]
  },
  {
   "cell_type": "markdown",
   "id": "75a58bd2",
   "metadata": {},
   "source": [
    "## Building the ANN"
   ]
  },
  {
   "cell_type": "code",
   "execution_count": 47,
   "id": "63a3c4d4",
   "metadata": {},
   "outputs": [],
   "source": [
    "ann = tf.keras.models.Sequential()\n",
    "\n",
    "ann.add(tf.keras.layers.Dense(units=55,kernel_initializer='lecun_uniform', activation='tanh'))\n",
    "\n",
    "ann.add(tf.keras.layers.Dense(units=55,kernel_initializer='lecun_uniform', activation='tanh'))\n",
    "\n",
    "ann.add(tf.keras.layers.Dense(units=55,kernel_initializer='lecun_uniform',activation='tanh'))\n",
    "\n",
    "ann.add(tf.keras.layers.Dense(units=55,kernel_initializer='lecun_uniform',activation='tanh'))\n",
    "\n",
    "ann.add(tf.keras.layers.Dense(units=55,kernel_initializer='lecun_uniform',activation='tanh'))\n",
    "\n",
    "ann.add(tf.keras.layers.Dense(units=55,kernel_initializer='lecun_uniform',activation='tanh'))\n",
    "\n",
    "ann.add(tf.keras.layers.Dense(units=6,kernel_initializer='lecun_uniform',activation='softmax'))\n",
    "\n",
    "ann.compile(loss='categorical_crossentropy', optimizer=tf.keras.optimizers.Nadam(), metrics=['accuracy'])"
   ]
  },
  {
   "cell_type": "code",
   "execution_count": 48,
   "id": "fda83314",
   "metadata": {},
   "outputs": [
    {
     "name": "stdout",
     "output_type": "stream",
     "text": [
      "Epoch 1/100\n",
      "466/466 [==============================] - 6s 4ms/step - loss: 0.9888 - accuracy: 0.4650\n",
      "Epoch 2/100\n",
      "466/466 [==============================] - 2s 4ms/step - loss: 0.7873 - accuracy: 0.5886\n",
      "Epoch 3/100\n",
      "466/466 [==============================] - 2s 4ms/step - loss: 0.6838 - accuracy: 0.6411\n",
      "Epoch 4/100\n",
      "466/466 [==============================] - 2s 4ms/step - loss: 0.6216 - accuracy: 0.6703\n",
      "Epoch 5/100\n",
      "466/466 [==============================] - 2s 4ms/step - loss: 0.5830 - accuracy: 0.6900\n",
      "Epoch 6/100\n",
      "466/466 [==============================] - 2s 4ms/step - loss: 0.5576 - accuracy: 0.7095\n",
      "Epoch 7/100\n",
      "466/466 [==============================] - 2s 4ms/step - loss: 0.5382 - accuracy: 0.7210\n",
      "Epoch 8/100\n",
      "466/466 [==============================] - 2s 4ms/step - loss: 0.5175 - accuracy: 0.7340\n",
      "Epoch 9/100\n",
      "466/466 [==============================] - 2s 4ms/step - loss: 0.5011 - accuracy: 0.7397\n",
      "Epoch 10/100\n",
      "466/466 [==============================] - 2s 4ms/step - loss: 0.4836 - accuracy: 0.7503\n",
      "Epoch 11/100\n",
      "466/466 [==============================] - 2s 4ms/step - loss: 0.4723 - accuracy: 0.7557\n",
      "Epoch 12/100\n",
      "466/466 [==============================] - 2s 4ms/step - loss: 0.4620 - accuracy: 0.7634\n",
      "Epoch 13/100\n",
      "466/466 [==============================] - 2s 4ms/step - loss: 0.4482 - accuracy: 0.7716\n",
      "Epoch 14/100\n",
      "466/466 [==============================] - 2s 4ms/step - loss: 0.4451 - accuracy: 0.7748\n",
      "Epoch 15/100\n",
      "466/466 [==============================] - 2s 4ms/step - loss: 0.4301 - accuracy: 0.7825\n",
      "Epoch 16/100\n",
      "466/466 [==============================] - 2s 4ms/step - loss: 0.4195 - accuracy: 0.7943\n",
      "Epoch 17/100\n",
      "466/466 [==============================] - 2s 4ms/step - loss: 0.4105 - accuracy: 0.7982\n",
      "Epoch 18/100\n",
      "466/466 [==============================] - 2s 4ms/step - loss: 0.4011 - accuracy: 0.8019\n",
      "Epoch 19/100\n",
      "466/466 [==============================] - 2s 4ms/step - loss: 0.4035 - accuracy: 0.8034\n",
      "Epoch 20/100\n",
      "466/466 [==============================] - 2s 4ms/step - loss: 0.3915 - accuracy: 0.8076\n",
      "Epoch 21/100\n",
      "466/466 [==============================] - 2s 4ms/step - loss: 0.3830 - accuracy: 0.8154\n",
      "Epoch 22/100\n",
      "466/466 [==============================] - 2s 4ms/step - loss: 0.3734 - accuracy: 0.8205\n",
      "Epoch 23/100\n",
      "466/466 [==============================] - 2s 4ms/step - loss: 0.3639 - accuracy: 0.8252\n",
      "Epoch 24/100\n",
      "466/466 [==============================] - 2s 4ms/step - loss: 0.3578 - accuracy: 0.8290\n",
      "Epoch 25/100\n",
      "466/466 [==============================] - 2s 4ms/step - loss: 0.3549 - accuracy: 0.8301\n",
      "Epoch 26/100\n",
      "466/466 [==============================] - 2s 4ms/step - loss: 0.3483 - accuracy: 0.8352\n",
      "Epoch 27/100\n",
      "466/466 [==============================] - 2s 4ms/step - loss: 0.3457 - accuracy: 0.8375\n",
      "Epoch 28/100\n",
      "466/466 [==============================] - 2s 4ms/step - loss: 0.3385 - accuracy: 0.8406\n",
      "Epoch 29/100\n",
      "466/466 [==============================] - 2s 4ms/step - loss: 0.3350 - accuracy: 0.8427\n",
      "Epoch 30/100\n",
      "466/466 [==============================] - 2s 4ms/step - loss: 0.3257 - accuracy: 0.8486\n",
      "Epoch 31/100\n",
      "466/466 [==============================] - 2s 4ms/step - loss: 0.3261 - accuracy: 0.8484\n",
      "Epoch 32/100\n",
      "466/466 [==============================] - 2s 4ms/step - loss: 0.3158 - accuracy: 0.8527\n",
      "Epoch 33/100\n",
      "466/466 [==============================] - 2s 4ms/step - loss: 0.3122 - accuracy: 0.8564\n",
      "Epoch 34/100\n",
      "466/466 [==============================] - 2s 4ms/step - loss: 0.3068 - accuracy: 0.8595\n",
      "Epoch 35/100\n",
      "466/466 [==============================] - 2s 4ms/step - loss: 0.2991 - accuracy: 0.8603\n",
      "Epoch 36/100\n",
      "466/466 [==============================] - 2s 4ms/step - loss: 0.2975 - accuracy: 0.8626\n",
      "Epoch 37/100\n",
      "466/466 [==============================] - 2s 4ms/step - loss: 0.2894 - accuracy: 0.8684\n",
      "Epoch 38/100\n",
      "466/466 [==============================] - 2s 4ms/step - loss: 0.2816 - accuracy: 0.8696\n",
      "Epoch 39/100\n",
      "466/466 [==============================] - 2s 4ms/step - loss: 0.2774 - accuracy: 0.8732\n",
      "Epoch 40/100\n",
      "466/466 [==============================] - 2s 4ms/step - loss: 0.2744 - accuracy: 0.8748\n",
      "Epoch 41/100\n",
      "466/466 [==============================] - 2s 4ms/step - loss: 0.2689 - accuracy: 0.8777\n",
      "Epoch 42/100\n",
      "466/466 [==============================] - 2s 4ms/step - loss: 0.2654 - accuracy: 0.8786\n",
      "Epoch 43/100\n",
      "466/466 [==============================] - 2s 4ms/step - loss: 0.2528 - accuracy: 0.8854\n",
      "Epoch 44/100\n",
      "466/466 [==============================] - 2s 4ms/step - loss: 0.2527 - accuracy: 0.8866\n",
      "Epoch 45/100\n",
      "466/466 [==============================] - 2s 4ms/step - loss: 0.2446 - accuracy: 0.8905\n",
      "Epoch 46/100\n",
      "466/466 [==============================] - 2s 4ms/step - loss: 0.2525 - accuracy: 0.8878\n",
      "Epoch 47/100\n",
      "466/466 [==============================] - 2s 4ms/step - loss: 0.2455 - accuracy: 0.8879\n",
      "Epoch 48/100\n",
      "466/466 [==============================] - 2s 4ms/step - loss: 0.2374 - accuracy: 0.8938\n",
      "Epoch 49/100\n",
      "466/466 [==============================] - 2s 4ms/step - loss: 0.2421 - accuracy: 0.8900\n",
      "Epoch 50/100\n",
      "466/466 [==============================] - 2s 4ms/step - loss: 0.2467 - accuracy: 0.8888\n",
      "Epoch 51/100\n",
      "466/466 [==============================] - 2s 4ms/step - loss: 0.2177 - accuracy: 0.9056\n",
      "Epoch 52/100\n",
      "466/466 [==============================] - 2s 4ms/step - loss: 0.2452 - accuracy: 0.8886\n",
      "Epoch 53/100\n",
      "466/466 [==============================] - 2s 4ms/step - loss: 0.2180 - accuracy: 0.9035\n",
      "Epoch 54/100\n",
      "466/466 [==============================] - 2s 4ms/step - loss: 0.2092 - accuracy: 0.9093\n",
      "Epoch 55/100\n",
      "466/466 [==============================] - 2s 4ms/step - loss: 0.2007 - accuracy: 0.9103\n",
      "Epoch 56/100\n",
      "466/466 [==============================] - 2s 4ms/step - loss: 0.1968 - accuracy: 0.9143\n",
      "Epoch 57/100\n",
      "466/466 [==============================] - 2s 4ms/step - loss: 0.1920 - accuracy: 0.9175\n",
      "Epoch 58/100\n",
      "466/466 [==============================] - 2s 4ms/step - loss: 0.1955 - accuracy: 0.9139\n",
      "Epoch 59/100\n",
      "466/466 [==============================] - 2s 4ms/step - loss: 0.1907 - accuracy: 0.9175\n",
      "Epoch 60/100\n",
      "466/466 [==============================] - 2s 4ms/step - loss: 0.1860 - accuracy: 0.9194\n",
      "Epoch 61/100\n",
      "466/466 [==============================] - 2s 4ms/step - loss: 0.1748 - accuracy: 0.9246\n",
      "Epoch 62/100\n",
      "466/466 [==============================] - 2s 4ms/step - loss: 0.2077 - accuracy: 0.9080\n",
      "Epoch 63/100\n",
      "466/466 [==============================] - 2s 4ms/step - loss: 0.2086 - accuracy: 0.9114\n",
      "Epoch 64/100\n",
      "466/466 [==============================] - 2s 4ms/step - loss: 0.1968 - accuracy: 0.9142\n",
      "Epoch 65/100\n",
      "466/466 [==============================] - 2s 4ms/step - loss: 0.1870 - accuracy: 0.9194\n",
      "Epoch 66/100\n",
      "466/466 [==============================] - 2s 4ms/step - loss: 0.2154 - accuracy: 0.9078\n",
      "Epoch 67/100\n",
      "466/466 [==============================] - 2s 4ms/step - loss: 0.1870 - accuracy: 0.9191\n",
      "Epoch 68/100\n",
      "466/466 [==============================] - 2s 4ms/step - loss: 0.1776 - accuracy: 0.9223\n",
      "Epoch 69/100\n",
      "466/466 [==============================] - 2s 4ms/step - loss: 0.1765 - accuracy: 0.9242\n",
      "Epoch 70/100\n",
      "466/466 [==============================] - 2s 4ms/step - loss: 0.1903 - accuracy: 0.9187\n",
      "Epoch 71/100\n",
      "466/466 [==============================] - 2s 4ms/step - loss: 0.1688 - accuracy: 0.9269\n",
      "Epoch 72/100\n",
      "466/466 [==============================] - 2s 4ms/step - loss: 0.1688 - accuracy: 0.9286\n",
      "Epoch 73/100\n",
      "466/466 [==============================] - 2s 4ms/step - loss: 0.1695 - accuracy: 0.9275\n",
      "Epoch 74/100\n",
      "466/466 [==============================] - 2s 4ms/step - loss: 0.1639 - accuracy: 0.9291\n",
      "Epoch 75/100\n",
      "466/466 [==============================] - 2s 4ms/step - loss: 0.1595 - accuracy: 0.9319\n",
      "Epoch 76/100\n",
      "466/466 [==============================] - 2s 4ms/step - loss: 0.1710 - accuracy: 0.9270\n",
      "Epoch 77/100\n",
      "466/466 [==============================] - 2s 4ms/step - loss: 0.2019 - accuracy: 0.9141\n",
      "Epoch 78/100\n",
      "466/466 [==============================] - 2s 4ms/step - loss: 0.1827 - accuracy: 0.9234\n",
      "Epoch 79/100\n",
      "466/466 [==============================] - 2s 4ms/step - loss: 0.1764 - accuracy: 0.9241\n",
      "Epoch 80/100\n",
      "466/466 [==============================] - 2s 4ms/step - loss: 0.1896 - accuracy: 0.9185\n",
      "Epoch 81/100\n"
     ]
    },
    {
     "name": "stdout",
     "output_type": "stream",
     "text": [
      "466/466 [==============================] - 2s 4ms/step - loss: 0.1720 - accuracy: 0.9252\n",
      "Epoch 82/100\n",
      "466/466 [==============================] - 2s 4ms/step - loss: 0.1685 - accuracy: 0.9300\n",
      "Epoch 83/100\n",
      "466/466 [==============================] - 2s 4ms/step - loss: 0.1631 - accuracy: 0.9304\n",
      "Epoch 84/100\n",
      "466/466 [==============================] - 2s 4ms/step - loss: 0.1611 - accuracy: 0.9305\n",
      "Epoch 85/100\n",
      "466/466 [==============================] - 2s 4ms/step - loss: 0.1565 - accuracy: 0.9335\n",
      "Epoch 86/100\n",
      "466/466 [==============================] - 2s 4ms/step - loss: 0.1578 - accuracy: 0.9323\n",
      "Epoch 87/100\n",
      "466/466 [==============================] - 2s 4ms/step - loss: 0.1562 - accuracy: 0.9341\n",
      "Epoch 88/100\n",
      "466/466 [==============================] - 2s 4ms/step - loss: 0.1470 - accuracy: 0.9373\n",
      "Epoch 89/100\n",
      "466/466 [==============================] - 2s 4ms/step - loss: 0.1504 - accuracy: 0.9359\n",
      "Epoch 90/100\n",
      "466/466 [==============================] - 2s 4ms/step - loss: 0.1540 - accuracy: 0.9342\n",
      "Epoch 91/100\n",
      "466/466 [==============================] - 2s 4ms/step - loss: 0.1475 - accuracy: 0.9389\n",
      "Epoch 92/100\n",
      "466/466 [==============================] - 2s 4ms/step - loss: 0.1477 - accuracy: 0.9388\n",
      "Epoch 93/100\n",
      "466/466 [==============================] - 2s 4ms/step - loss: 0.1411 - accuracy: 0.9388\n",
      "Epoch 94/100\n",
      "466/466 [==============================] - 2s 4ms/step - loss: 0.1474 - accuracy: 0.9386\n",
      "Epoch 95/100\n",
      "466/466 [==============================] - 2s 4ms/step - loss: 0.1377 - accuracy: 0.9402\n",
      "Epoch 96/100\n",
      "466/466 [==============================] - 2s 4ms/step - loss: 0.1442 - accuracy: 0.9384\n",
      "Epoch 97/100\n",
      "466/466 [==============================] - 2s 4ms/step - loss: 0.1342 - accuracy: 0.9423\n",
      "Epoch 98/100\n",
      "466/466 [==============================] - 2s 5ms/step - loss: 0.1450 - accuracy: 0.9376\n",
      "Epoch 99/100\n",
      "466/466 [==============================] - 2s 4ms/step - loss: 0.1363 - accuracy: 0.9415\n",
      "Epoch 100/100\n",
      "466/466 [==============================] - 2s 4ms/step - loss: 0.1278 - accuracy: 0.9446\n"
     ]
    },
    {
     "data": {
      "text/plain": [
       "<keras.callbacks.History at 0x1eef267ef70>"
      ]
     },
     "execution_count": 48,
     "metadata": {},
     "output_type": "execute_result"
    }
   ],
   "source": [
    "ann.fit(x_train, y_train, batch_size = 65, epochs = 100)"
   ]
  },
  {
   "cell_type": "code",
   "execution_count": 49,
   "id": "0c091693",
   "metadata": {},
   "outputs": [
    {
     "name": "stdout",
     "output_type": "stream",
     "text": [
      "237/237 [==============================] - 1s 3ms/step\n"
     ]
    }
   ],
   "source": [
    "y_pred=ann.predict(x_test) \n",
    "y_pred=np.round(y_pred)\n",
    "y_test=np.array(y_test)"
   ]
  },
  {
   "cell_type": "markdown",
   "id": "0aa1f0fa",
   "metadata": {},
   "source": [
    "## confusion matrix"
   ]
  },
  {
   "cell_type": "code",
   "execution_count": 50,
   "id": "4714eb04",
   "metadata": {},
   "outputs": [
    {
     "name": "stdout",
     "output_type": "stream",
     "text": [
      "237/237 [==============================] - 1s 2ms/step\n",
      "[[1059    0  159    0   34    0]\n",
      " [   0 1250    0   11    0    3]\n",
      " [  79    0 1010    0  180    0]\n",
      " [   0    8    0 1210    0   31]\n",
      " [  60    0   57    0 1157    0]\n",
      " [   0    3    0   15    0 1234]]\n"
     ]
    }
   ],
   "source": [
    "from sklearn.metrics import confusion_matrix,accuracy_score,classification_report\n",
    "import seaborn as sns\n",
    "\n",
    "predictions_one_hot = ann.predict(x_test)\n",
    "cm = confusion_matrix(y_test.argmax(axis=1), predictions_one_hot.argmax(axis=1))\n",
    "print(cm)"
   ]
  },
  {
   "cell_type": "markdown",
   "id": "dee010de",
   "metadata": {},
   "source": [
    "## classification_report"
   ]
  },
  {
   "cell_type": "code",
   "execution_count": 51,
   "id": "74334451",
   "metadata": {},
   "outputs": [
    {
     "name": "stdout",
     "output_type": "stream",
     "text": [
      "              precision    recall  f1-score   support\n",
      "\n",
      "           0       0.88      0.85      0.86      1252\n",
      "           1       0.99      0.99      0.99      1264\n",
      "           2       0.82      0.80      0.81      1269\n",
      "           3       0.98      0.97      0.97      1249\n",
      "           4       0.84      0.91      0.87      1274\n",
      "           5       0.97      0.99      0.98      1252\n",
      "\n",
      "    accuracy                           0.92      7560\n",
      "   macro avg       0.92      0.92      0.92      7560\n",
      "weighted avg       0.92      0.92      0.92      7560\n",
      "\n"
     ]
    }
   ],
   "source": [
    "clf_report=classification_report(y_test.argmax(axis=1), predictions_one_hot.argmax(axis=1))\n",
    "print(clf_report)"
   ]
  },
  {
   "cell_type": "code",
   "execution_count": 52,
   "id": "b6677957",
   "metadata": {},
   "outputs": [
    {
     "data": {
      "text/plain": [
       "0.9153439153439153"
      ]
     },
     "execution_count": 52,
     "metadata": {},
     "output_type": "execute_result"
    }
   ],
   "source": [
    "accuracy_score(y_test.argmax(axis=1),predictions_one_hot.argmax(axis=1))"
   ]
  },
  {
   "cell_type": "markdown",
   "id": "8d48b250",
   "metadata": {},
   "source": [
    "## Visualization"
   ]
  },
  {
   "cell_type": "code",
   "execution_count": 53,
   "id": "cebc24cd",
   "metadata": {},
   "outputs": [
    {
     "data": {
      "text/plain": [
       "<AxesSubplot:>"
      ]
     },
     "execution_count": 53,
     "metadata": {},
     "output_type": "execute_result"
    },
    {
     "data": {
      "image/png": "[encoded data removed]",
      "text/plain": [
       "<Figure size 1080x720 with 2 Axes>"
      ]
     },
     "metadata": {
      "needs_background": "light"
     },
     "output_type": "display_data"
    }
   ],
   "source": [
    "plt.figure(figsize=(15,10))\n",
    "sns.heatmap(cm,annot=True,cmap='coolwarm')"
   ]
  },
  {
   "cell_type": "code",
   "execution_count": 54,
   "id": "66272b09",
   "metadata": {},
   "outputs": [
    {
     "data": {
      "text/plain": [
       "<Figure size 432x288 with 0 Axes>"
      ]
     },
     "metadata": {},
     "output_type": "display_data"
    }
   ],
   "source": [
    "plt.savefig('cm.jpg', dpi=300, format='png', bbox_inches='tight')\n"
   ]
  },
  {
   "cell_type": "code",
   "execution_count": 55,
   "id": "e4331e28",
   "metadata": {},
   "outputs": [],
   "source": [
    "true = np.random.randint(0, 10, size=100)\n",
    "pred = np.random.randint(0, 10, size=100)\n",
    "labels = np.arange(10)\n",
    "target_names = list(\"012345\")"
   ]
  },
  {
   "cell_type": "code",
   "execution_count": 56,
   "id": "a5b75590",
   "metadata": {},
   "outputs": [
    {
     "name": "stderr",
     "output_type": "stream",
     "text": [
      "C:\\Users\\HP\\anaconda3\\lib\\site-packages\\sklearn\\metrics\\_classification.py:2126: UserWarning: labels size, 10, does not match size of target_names, 6\n",
      "  warnings.warn(\n"
     ]
    }
   ],
   "source": [
    "clf_report = classification_report(true,\n",
    "                                   pred,\n",
    "                                   labels=labels,\n",
    "                                   target_names=target_names,\n",
    "                                   output_dict=True)"
   ]
  },
  {
   "cell_type": "code",
   "execution_count": 57,
   "id": "6f583c9c",
   "metadata": {},
   "outputs": [
    {
     "data": {
      "text/plain": [
       "<AxesSubplot:>"
      ]
     },
     "execution_count": 57,
     "metadata": {},
     "output_type": "execute_result"
    },
    {
     "data": {
      "image/png": "[encoded data removed]",
      "text/plain": [
       "<Figure size 1080x720 with 2 Axes>"
      ]
     },
     "metadata": {
      "needs_background": "light"
     },
     "output_type": "display_data"
    }
   ],
   "source": [
    "plt.figure(figsize=(15,10))\n",
    "sns.heatmap(pd.DataFrame(clf_report).iloc[:, :].T, annot=True)"
   ]
  },
  {
   "cell_type": "code",
   "execution_count": 58,
   "id": "e9dd9337",
   "metadata": {},
   "outputs": [],
   "source": [
    "#  plt.savefig('clf_report.png', dpi=1080, format='png', bbox_inches='tight')\n",
    "#  plt.close()"
   ]
  },
  {
   "cell_type": "markdown",
   "id": "95b0aeb1",
   "metadata": {},
   "source": [
    "#### "
   ]
  },
  {
   "cell_type": "code",
   "execution_count": null,
   "id": "6cfc625b",
   "metadata": {},
   "outputs": [],
   "source": []
  },
  {
   "cell_type": "code",
   "execution_count": null,
   "id": "be9d1332",
   "metadata": {},
   "outputs": [],
   "source": []
  },
  {
   "cell_type": "code",
   "execution_count": null,
   "id": "71527a0a",
   "metadata": {},
   "outputs": [],
   "source": []
  },
  {
   "cell_type": "code",
   "execution_count": null,
   "id": "c3fe0609",
   "metadata": {},
   "outputs": [],
   "source": []
  },
  {
   "cell_type": "code",
   "execution_count": null,
   "id": "b04373b0",
   "metadata": {},
   "outputs": [],
   "source": []
  }
 ],
 "metadata": {
  "kernelspec": {
   "display_name": "Python 3 (ipykernel)",
   "language": "python",
   "name": "python3"
  },
  "language_info": {
   "codemirror_mode": {
    "name": "ipython",
    "version": 3
   },
   "file_extension": ".py",
   "mimetype": "text/x-python",
   "name": "python",
   "nbconvert_exporter": "python",
   "pygments_lexer": "ipython3",
   "version": "3.9.12"
  }
 },
 "nbformat": 4,
 "nbformat_minor": 5
}
